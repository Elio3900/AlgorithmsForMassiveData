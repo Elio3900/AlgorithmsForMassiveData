{
  "nbformat": 4,
  "nbformat_minor": 0,
  "metadata": {
    "colab": {
      "name": "MPG_PREDICTION.ipynb",
      "provenance": [],
      "collapsed_sections": [],
      "include_colab_link": true
    },
    "kernelspec": {
      "name": "python3",
      "display_name": "Python 3"
    }
  },
  "cells": [
    {
      "cell_type": "markdown",
      "metadata": {
        "id": "view-in-github",
        "colab_type": "text"
      },
      "source": [
        "<a href=\"https://colab.research.google.com/github/GrzegorzMeller/AlgorithmsForMassiveData/blob/master/MPG_PREDICTION.ipynb\" target=\"_parent\"><img src=\"https://colab.research.google.com/assets/colab-badge.svg\" alt=\"Open In Colab\"/></a>"
      ]
    },
    {
      "cell_type": "markdown",
      "metadata": {
        "id": "Qml9V3j5J94g",
        "colab_type": "text"
      },
      "source": [
        "# Exercises 14/05\n",
        "\n",
        "In regression problems, we want to predict the output of a continuous value. Contrast this with a classification problem, where we want to pick a class from a list of classes.\n",
        "\n",
        "In the 14/05 lecture we will focus on regression. We will use the [Auto MPG](https://archive.ics.uci.edu/ml/datasets/auto+mpg) dataset to build a model to predict the fuel efficiency of late-1970s and early 1980s automobiles. Fluel efficiency is predicted relying on several attributes like: number of cylinders, displacement, horsepower, and weight.\n",
        "\n",
        "The dataset can be downloaded as follows:\n"
      ]
    },
    {
      "cell_type": "code",
      "metadata": {
        "id": "X7_2bPdFKBLo",
        "colab_type": "code",
        "outputId": "1c3cdd44-8a5d-445d-8d6a-3b47d14ecca4",
        "colab": {
          "base_uri": "https://localhost:8080/",
          "height": 85
        }
      },
      "source": [
        "import keras\n",
        "\n",
        "dataset_path = keras.utils.get_file(\"auto-mpg.data\", \"http://archive.ics.uci.edu/ml/machine-learning-databases/auto-mpg/auto-mpg.data\")\n",
        "dataset_path"
      ],
      "execution_count": 1,
      "outputs": [
        {
          "output_type": "stream",
          "text": [
            "Using TensorFlow backend.\n"
          ],
          "name": "stderr"
        },
        {
          "output_type": "stream",
          "text": [
            "Downloading data from http://archive.ics.uci.edu/ml/machine-learning-databases/auto-mpg/auto-mpg.data\n",
            "32768/30286 [================================] - 0s 1us/step\n"
          ],
          "name": "stdout"
        },
        {
          "output_type": "execute_result",
          "data": {
            "text/plain": [
              "'/root/.keras/datasets/auto-mpg.data'"
            ]
          },
          "metadata": {
            "tags": []
          },
          "execution_count": 1
        }
      ]
    },
    {
      "cell_type": "markdown",
      "metadata": {
        "id": "ZF2nCiSNLlre",
        "colab_type": "text"
      },
      "source": [
        "Pandas can be used to first preprocess the dataset:"
      ]
    },
    {
      "cell_type": "code",
      "metadata": {
        "id": "x-PRrc6oLRQ0",
        "colab_type": "code",
        "outputId": "6bd2fbde-aec2-4db4-d20f-f781fa82593b",
        "colab": {
          "base_uri": "https://localhost:8080/",
          "height": 204
        }
      },
      "source": [
        "import pandas as pd\n",
        "\n",
        "column_names = ['MPG','Cylinders','Displacement','Horsepower','Weight',\n",
        "                'Acceleration', 'Model Year', 'Origin']\n",
        "\n",
        "raw_dataset = pd.read_csv(dataset_path, names=column_names,\n",
        "                      na_values = \"?\", comment='\\t',\n",
        "                      sep=\" \", skipinitialspace=True)\n",
        "\n",
        "dataset = raw_dataset.copy()\n",
        "dataset.tail()"
      ],
      "execution_count": 2,
      "outputs": [
        {
          "output_type": "execute_result",
          "data": {
            "text/html": [
              "<div>\n",
              "<style scoped>\n",
              "    .dataframe tbody tr th:only-of-type {\n",
              "        vertical-align: middle;\n",
              "    }\n",
              "\n",
              "    .dataframe tbody tr th {\n",
              "        vertical-align: top;\n",
              "    }\n",
              "\n",
              "    .dataframe thead th {\n",
              "        text-align: right;\n",
              "    }\n",
              "</style>\n",
              "<table border=\"1\" class=\"dataframe\">\n",
              "  <thead>\n",
              "    <tr style=\"text-align: right;\">\n",
              "      <th></th>\n",
              "      <th>MPG</th>\n",
              "      <th>Cylinders</th>\n",
              "      <th>Displacement</th>\n",
              "      <th>Horsepower</th>\n",
              "      <th>Weight</th>\n",
              "      <th>Acceleration</th>\n",
              "      <th>Model Year</th>\n",
              "      <th>Origin</th>\n",
              "    </tr>\n",
              "  </thead>\n",
              "  <tbody>\n",
              "    <tr>\n",
              "      <th>393</th>\n",
              "      <td>27.0</td>\n",
              "      <td>4</td>\n",
              "      <td>140.0</td>\n",
              "      <td>86.0</td>\n",
              "      <td>2790.0</td>\n",
              "      <td>15.6</td>\n",
              "      <td>82</td>\n",
              "      <td>1</td>\n",
              "    </tr>\n",
              "    <tr>\n",
              "      <th>394</th>\n",
              "      <td>44.0</td>\n",
              "      <td>4</td>\n",
              "      <td>97.0</td>\n",
              "      <td>52.0</td>\n",
              "      <td>2130.0</td>\n",
              "      <td>24.6</td>\n",
              "      <td>82</td>\n",
              "      <td>2</td>\n",
              "    </tr>\n",
              "    <tr>\n",
              "      <th>395</th>\n",
              "      <td>32.0</td>\n",
              "      <td>4</td>\n",
              "      <td>135.0</td>\n",
              "      <td>84.0</td>\n",
              "      <td>2295.0</td>\n",
              "      <td>11.6</td>\n",
              "      <td>82</td>\n",
              "      <td>1</td>\n",
              "    </tr>\n",
              "    <tr>\n",
              "      <th>396</th>\n",
              "      <td>28.0</td>\n",
              "      <td>4</td>\n",
              "      <td>120.0</td>\n",
              "      <td>79.0</td>\n",
              "      <td>2625.0</td>\n",
              "      <td>18.6</td>\n",
              "      <td>82</td>\n",
              "      <td>1</td>\n",
              "    </tr>\n",
              "    <tr>\n",
              "      <th>397</th>\n",
              "      <td>31.0</td>\n",
              "      <td>4</td>\n",
              "      <td>119.0</td>\n",
              "      <td>82.0</td>\n",
              "      <td>2720.0</td>\n",
              "      <td>19.4</td>\n",
              "      <td>82</td>\n",
              "      <td>1</td>\n",
              "    </tr>\n",
              "  </tbody>\n",
              "</table>\n",
              "</div>"
            ],
            "text/plain": [
              "      MPG  Cylinders  Displacement  ...  Acceleration  Model Year  Origin\n",
              "393  27.0          4         140.0  ...          15.6          82       1\n",
              "394  44.0          4          97.0  ...          24.6          82       2\n",
              "395  32.0          4         135.0  ...          11.6          82       1\n",
              "396  28.0          4         120.0  ...          18.6          82       1\n",
              "397  31.0          4         119.0  ...          19.4          82       1\n",
              "\n",
              "[5 rows x 8 columns]"
            ]
          },
          "metadata": {
            "tags": []
          },
          "execution_count": 2
        }
      ]
    },
    {
      "cell_type": "markdown",
      "metadata": {
        "id": "tJpai1XnL46d",
        "colab_type": "text"
      },
      "source": [
        "The dataset contains a few unknown values:"
      ]
    },
    {
      "cell_type": "code",
      "metadata": {
        "id": "EFADkC3nLsKq",
        "colab_type": "code",
        "outputId": "b2646e60-6b0c-4cf6-fbfe-1698949d2ccf",
        "colab": {
          "base_uri": "https://localhost:8080/",
          "height": 170
        }
      },
      "source": [
        "dataset.isna().sum()"
      ],
      "execution_count": 3,
      "outputs": [
        {
          "output_type": "execute_result",
          "data": {
            "text/plain": [
              "MPG             0\n",
              "Cylinders       0\n",
              "Displacement    0\n",
              "Horsepower      6\n",
              "Weight          0\n",
              "Acceleration    0\n",
              "Model Year      0\n",
              "Origin          0\n",
              "dtype: int64"
            ]
          },
          "metadata": {
            "tags": []
          },
          "execution_count": 3
        }
      ]
    },
    {
      "cell_type": "markdown",
      "metadata": {
        "id": "nTQOesN5MDSN",
        "colab_type": "text"
      },
      "source": [
        "Simply drop the rows that contain unknown values.\n",
        "\n",
        "Build the training set and the test set as follows:"
      ]
    },
    {
      "cell_type": "code",
      "metadata": {
        "id": "fDitBJMjMAUm",
        "colab_type": "code",
        "outputId": "132ff005-c38b-4b7c-b915-8c7e01f6d3bf",
        "colab": {
          "base_uri": "https://localhost:8080/",
          "height": 419
        }
      },
      "source": [
        "train_dataset = dataset.sample(frac = 0.8, random_state = 0)\n",
        "test_dataset = dataset.drop(train_dataset.index)\n",
        "train_dataset"
      ],
      "execution_count": 4,
      "outputs": [
        {
          "output_type": "execute_result",
          "data": {
            "text/html": [
              "<div>\n",
              "<style scoped>\n",
              "    .dataframe tbody tr th:only-of-type {\n",
              "        vertical-align: middle;\n",
              "    }\n",
              "\n",
              "    .dataframe tbody tr th {\n",
              "        vertical-align: top;\n",
              "    }\n",
              "\n",
              "    .dataframe thead th {\n",
              "        text-align: right;\n",
              "    }\n",
              "</style>\n",
              "<table border=\"1\" class=\"dataframe\">\n",
              "  <thead>\n",
              "    <tr style=\"text-align: right;\">\n",
              "      <th></th>\n",
              "      <th>MPG</th>\n",
              "      <th>Cylinders</th>\n",
              "      <th>Displacement</th>\n",
              "      <th>Horsepower</th>\n",
              "      <th>Weight</th>\n",
              "      <th>Acceleration</th>\n",
              "      <th>Model Year</th>\n",
              "      <th>Origin</th>\n",
              "    </tr>\n",
              "  </thead>\n",
              "  <tbody>\n",
              "    <tr>\n",
              "      <th>65</th>\n",
              "      <td>14.0</td>\n",
              "      <td>8</td>\n",
              "      <td>351.0</td>\n",
              "      <td>153.0</td>\n",
              "      <td>4129.0</td>\n",
              "      <td>13.0</td>\n",
              "      <td>72</td>\n",
              "      <td>1</td>\n",
              "    </tr>\n",
              "    <tr>\n",
              "      <th>132</th>\n",
              "      <td>25.0</td>\n",
              "      <td>4</td>\n",
              "      <td>140.0</td>\n",
              "      <td>75.0</td>\n",
              "      <td>2542.0</td>\n",
              "      <td>17.0</td>\n",
              "      <td>74</td>\n",
              "      <td>1</td>\n",
              "    </tr>\n",
              "    <tr>\n",
              "      <th>74</th>\n",
              "      <td>13.0</td>\n",
              "      <td>8</td>\n",
              "      <td>302.0</td>\n",
              "      <td>140.0</td>\n",
              "      <td>4294.0</td>\n",
              "      <td>16.0</td>\n",
              "      <td>72</td>\n",
              "      <td>1</td>\n",
              "    </tr>\n",
              "    <tr>\n",
              "      <th>78</th>\n",
              "      <td>21.0</td>\n",
              "      <td>4</td>\n",
              "      <td>120.0</td>\n",
              "      <td>87.0</td>\n",
              "      <td>2979.0</td>\n",
              "      <td>19.5</td>\n",
              "      <td>72</td>\n",
              "      <td>2</td>\n",
              "    </tr>\n",
              "    <tr>\n",
              "      <th>37</th>\n",
              "      <td>18.0</td>\n",
              "      <td>6</td>\n",
              "      <td>232.0</td>\n",
              "      <td>100.0</td>\n",
              "      <td>3288.0</td>\n",
              "      <td>15.5</td>\n",
              "      <td>71</td>\n",
              "      <td>1</td>\n",
              "    </tr>\n",
              "    <tr>\n",
              "      <th>...</th>\n",
              "      <td>...</td>\n",
              "      <td>...</td>\n",
              "      <td>...</td>\n",
              "      <td>...</td>\n",
              "      <td>...</td>\n",
              "      <td>...</td>\n",
              "      <td>...</td>\n",
              "      <td>...</td>\n",
              "    </tr>\n",
              "    <tr>\n",
              "      <th>207</th>\n",
              "      <td>20.0</td>\n",
              "      <td>4</td>\n",
              "      <td>130.0</td>\n",
              "      <td>102.0</td>\n",
              "      <td>3150.0</td>\n",
              "      <td>15.7</td>\n",
              "      <td>76</td>\n",
              "      <td>2</td>\n",
              "    </tr>\n",
              "    <tr>\n",
              "      <th>279</th>\n",
              "      <td>29.5</td>\n",
              "      <td>4</td>\n",
              "      <td>98.0</td>\n",
              "      <td>68.0</td>\n",
              "      <td>2135.0</td>\n",
              "      <td>16.6</td>\n",
              "      <td>78</td>\n",
              "      <td>3</td>\n",
              "    </tr>\n",
              "    <tr>\n",
              "      <th>227</th>\n",
              "      <td>19.0</td>\n",
              "      <td>6</td>\n",
              "      <td>225.0</td>\n",
              "      <td>100.0</td>\n",
              "      <td>3630.0</td>\n",
              "      <td>17.7</td>\n",
              "      <td>77</td>\n",
              "      <td>1</td>\n",
              "    </tr>\n",
              "    <tr>\n",
              "      <th>148</th>\n",
              "      <td>26.0</td>\n",
              "      <td>4</td>\n",
              "      <td>116.0</td>\n",
              "      <td>75.0</td>\n",
              "      <td>2246.0</td>\n",
              "      <td>14.0</td>\n",
              "      <td>74</td>\n",
              "      <td>2</td>\n",
              "    </tr>\n",
              "    <tr>\n",
              "      <th>143</th>\n",
              "      <td>26.0</td>\n",
              "      <td>4</td>\n",
              "      <td>97.0</td>\n",
              "      <td>78.0</td>\n",
              "      <td>2300.0</td>\n",
              "      <td>14.5</td>\n",
              "      <td>74</td>\n",
              "      <td>2</td>\n",
              "    </tr>\n",
              "  </tbody>\n",
              "</table>\n",
              "<p>318 rows × 8 columns</p>\n",
              "</div>"
            ],
            "text/plain": [
              "      MPG  Cylinders  Displacement  ...  Acceleration  Model Year  Origin\n",
              "65   14.0          8         351.0  ...          13.0          72       1\n",
              "132  25.0          4         140.0  ...          17.0          74       1\n",
              "74   13.0          8         302.0  ...          16.0          72       1\n",
              "78   21.0          4         120.0  ...          19.5          72       2\n",
              "37   18.0          6         232.0  ...          15.5          71       1\n",
              "..    ...        ...           ...  ...           ...         ...     ...\n",
              "207  20.0          4         130.0  ...          15.7          76       2\n",
              "279  29.5          4          98.0  ...          16.6          78       3\n",
              "227  19.0          6         225.0  ...          17.7          77       1\n",
              "148  26.0          4         116.0  ...          14.0          74       2\n",
              "143  26.0          4          97.0  ...          14.5          74       2\n",
              "\n",
              "[318 rows x 8 columns]"
            ]
          },
          "metadata": {
            "tags": []
          },
          "execution_count": 4
        }
      ]
    },
    {
      "cell_type": "code",
      "metadata": {
        "id": "u8jtg_zOXCQD",
        "colab_type": "code",
        "colab": {
          "base_uri": "https://localhost:8080/",
          "height": 419
        },
        "outputId": "de17a01b-5217-4b31-b6b2-d3279eacbd87"
      },
      "source": [
        "test_dataset"
      ],
      "execution_count": 9,
      "outputs": [
        {
          "output_type": "execute_result",
          "data": {
            "text/html": [
              "<div>\n",
              "<style scoped>\n",
              "    .dataframe tbody tr th:only-of-type {\n",
              "        vertical-align: middle;\n",
              "    }\n",
              "\n",
              "    .dataframe tbody tr th {\n",
              "        vertical-align: top;\n",
              "    }\n",
              "\n",
              "    .dataframe thead th {\n",
              "        text-align: right;\n",
              "    }\n",
              "</style>\n",
              "<table border=\"1\" class=\"dataframe\">\n",
              "  <thead>\n",
              "    <tr style=\"text-align: right;\">\n",
              "      <th></th>\n",
              "      <th>MPG</th>\n",
              "      <th>Cylinders</th>\n",
              "      <th>Displacement</th>\n",
              "      <th>Horsepower</th>\n",
              "      <th>Weight</th>\n",
              "      <th>Acceleration</th>\n",
              "      <th>Model Year</th>\n",
              "      <th>Origin</th>\n",
              "    </tr>\n",
              "  </thead>\n",
              "  <tbody>\n",
              "    <tr>\n",
              "      <th>9</th>\n",
              "      <td>15.0</td>\n",
              "      <td>8</td>\n",
              "      <td>390.0</td>\n",
              "      <td>190.0</td>\n",
              "      <td>3850.0</td>\n",
              "      <td>8.5</td>\n",
              "      <td>70</td>\n",
              "      <td>1</td>\n",
              "    </tr>\n",
              "    <tr>\n",
              "      <th>25</th>\n",
              "      <td>10.0</td>\n",
              "      <td>8</td>\n",
              "      <td>360.0</td>\n",
              "      <td>215.0</td>\n",
              "      <td>4615.0</td>\n",
              "      <td>14.0</td>\n",
              "      <td>70</td>\n",
              "      <td>1</td>\n",
              "    </tr>\n",
              "    <tr>\n",
              "      <th>28</th>\n",
              "      <td>9.0</td>\n",
              "      <td>8</td>\n",
              "      <td>304.0</td>\n",
              "      <td>193.0</td>\n",
              "      <td>4732.0</td>\n",
              "      <td>18.5</td>\n",
              "      <td>70</td>\n",
              "      <td>1</td>\n",
              "    </tr>\n",
              "    <tr>\n",
              "      <th>31</th>\n",
              "      <td>25.0</td>\n",
              "      <td>4</td>\n",
              "      <td>113.0</td>\n",
              "      <td>95.0</td>\n",
              "      <td>2228.0</td>\n",
              "      <td>14.0</td>\n",
              "      <td>71</td>\n",
              "      <td>3</td>\n",
              "    </tr>\n",
              "    <tr>\n",
              "      <th>32</th>\n",
              "      <td>25.0</td>\n",
              "      <td>4</td>\n",
              "      <td>98.0</td>\n",
              "      <td>NaN</td>\n",
              "      <td>2046.0</td>\n",
              "      <td>19.0</td>\n",
              "      <td>71</td>\n",
              "      <td>1</td>\n",
              "    </tr>\n",
              "    <tr>\n",
              "      <th>...</th>\n",
              "      <td>...</td>\n",
              "      <td>...</td>\n",
              "      <td>...</td>\n",
              "      <td>...</td>\n",
              "      <td>...</td>\n",
              "      <td>...</td>\n",
              "      <td>...</td>\n",
              "      <td>...</td>\n",
              "    </tr>\n",
              "    <tr>\n",
              "      <th>368</th>\n",
              "      <td>27.0</td>\n",
              "      <td>4</td>\n",
              "      <td>112.0</td>\n",
              "      <td>88.0</td>\n",
              "      <td>2640.0</td>\n",
              "      <td>18.6</td>\n",
              "      <td>82</td>\n",
              "      <td>1</td>\n",
              "    </tr>\n",
              "    <tr>\n",
              "      <th>370</th>\n",
              "      <td>31.0</td>\n",
              "      <td>4</td>\n",
              "      <td>112.0</td>\n",
              "      <td>85.0</td>\n",
              "      <td>2575.0</td>\n",
              "      <td>16.2</td>\n",
              "      <td>82</td>\n",
              "      <td>1</td>\n",
              "    </tr>\n",
              "    <tr>\n",
              "      <th>382</th>\n",
              "      <td>34.0</td>\n",
              "      <td>4</td>\n",
              "      <td>108.0</td>\n",
              "      <td>70.0</td>\n",
              "      <td>2245.0</td>\n",
              "      <td>16.9</td>\n",
              "      <td>82</td>\n",
              "      <td>3</td>\n",
              "    </tr>\n",
              "    <tr>\n",
              "      <th>384</th>\n",
              "      <td>32.0</td>\n",
              "      <td>4</td>\n",
              "      <td>91.0</td>\n",
              "      <td>67.0</td>\n",
              "      <td>1965.0</td>\n",
              "      <td>15.7</td>\n",
              "      <td>82</td>\n",
              "      <td>3</td>\n",
              "    </tr>\n",
              "    <tr>\n",
              "      <th>396</th>\n",
              "      <td>28.0</td>\n",
              "      <td>4</td>\n",
              "      <td>120.0</td>\n",
              "      <td>79.0</td>\n",
              "      <td>2625.0</td>\n",
              "      <td>18.6</td>\n",
              "      <td>82</td>\n",
              "      <td>1</td>\n",
              "    </tr>\n",
              "  </tbody>\n",
              "</table>\n",
              "<p>80 rows × 8 columns</p>\n",
              "</div>"
            ],
            "text/plain": [
              "      MPG  Cylinders  Displacement  ...  Acceleration  Model Year  Origin\n",
              "9    15.0          8         390.0  ...           8.5          70       1\n",
              "25   10.0          8         360.0  ...          14.0          70       1\n",
              "28    9.0          8         304.0  ...          18.5          70       1\n",
              "31   25.0          4         113.0  ...          14.0          71       3\n",
              "32   25.0          4          98.0  ...          19.0          71       1\n",
              "..    ...        ...           ...  ...           ...         ...     ...\n",
              "368  27.0          4         112.0  ...          18.6          82       1\n",
              "370  31.0          4         112.0  ...          16.2          82       1\n",
              "382  34.0          4         108.0  ...          16.9          82       3\n",
              "384  32.0          4          91.0  ...          15.7          82       3\n",
              "396  28.0          4         120.0  ...          18.6          82       1\n",
              "\n",
              "[80 rows x 8 columns]"
            ]
          },
          "metadata": {
            "tags": []
          },
          "execution_count": 9
        }
      ]
    },
    {
      "cell_type": "markdown",
      "metadata": {
        "id": "XHnAaPVIMqfL",
        "colab_type": "text"
      },
      "source": [
        "Then, separate the target value, or \"label\", from the features. This label is the value that you will train the model to predict. We are talking about the MPG values (Miles Per Gallon).\n",
        "\n",
        "After the preprocessing step:\n",
        "\n",
        "- Build a neural network to predict the MPG value from the provided data.\n",
        "- Use the Mean Squared Error (MSE) as loss function. MSE is a common loss function used in regression problems.\n",
        "- Evaluation metrics used for regression differ from classification. A common regression metric that you can try to use is the Mean Absolute Error (MAE).\n",
        "- Try to scale the input data and the output data using Normalization or Standardization.\n",
        "- Do you notice any improvement in the performance when data scaling is applied?"
      ]
    },
    {
      "cell_type": "code",
      "metadata": {
        "id": "k9_P823oUDOn",
        "colab_type": "code",
        "colab": {
          "base_uri": "https://localhost:8080/",
          "height": 51
        },
        "outputId": "597e7792-5bf3-47a5-f618-f75d2584ca02"
      },
      "source": [
        "x_train = train_dataset[train_dataset.columns[1:]]\n",
        "y_train = train_dataset.MPG\n",
        "y_train = y_train.astype(float)\n",
        "\n",
        "x_test = test_dataset[test_dataset.columns[1:]]\n",
        "y_test = test_dataset.MPG\n",
        "y_test = y_test.astype(float)\n",
        "\n",
        "#nan values\n",
        "x_train = x_train.fillna(x_train.mean())\n",
        "x_test = x_test.fillna(x_test.mean())\n",
        "y_train = y_train.fillna(y_train.mean())\n",
        "y_test = y_test.fillna(y_test.mean())\n",
        "print(type(y_train))\n",
        "print(x_train.shape, y_train.shape, x_test.shape, y_test.shape)"
      ],
      "execution_count": 41,
      "outputs": [
        {
          "output_type": "stream",
          "text": [
            "<class 'pandas.core.series.Series'>\n",
            "(318, 7) (318,) (80, 7) (80,)\n"
          ],
          "name": "stdout"
        }
      ]
    },
    {
      "cell_type": "code",
      "metadata": {
        "id": "XPMM2nm-Xbx1",
        "colab_type": "code",
        "colab": {
          "base_uri": "https://localhost:8080/",
          "height": 255
        },
        "outputId": "f6866756-c1f3-44ea-d869-d77927df2d4c"
      },
      "source": [
        "from tensorflow import keras\n",
        "#neural network implementation\n",
        "model = keras.Sequential([\n",
        "    keras.layers.Dense(64, activation=\"relu\", input_shape=(x_train.shape[1],)), \n",
        "\n",
        "    keras.layers.Dense(64, activation=\"relu\"),\n",
        "\n",
        "\n",
        "    keras.layers.Dense(1)]) \n",
        "  \n",
        "\n",
        "model.compile(optimizer='adam',\n",
        "              loss='mean_squared_error',\n",
        "              metrics=['mean_absolute_error'])\n",
        "\n",
        "model.summary()"
      ],
      "execution_count": 44,
      "outputs": [
        {
          "output_type": "stream",
          "text": [
            "Model: \"sequential_6\"\n",
            "_________________________________________________________________\n",
            "Layer (type)                 Output Shape              Param #   \n",
            "=================================================================\n",
            "dense_18 (Dense)             (None, 64)                512       \n",
            "_________________________________________________________________\n",
            "dense_19 (Dense)             (None, 64)                4160      \n",
            "_________________________________________________________________\n",
            "dense_20 (Dense)             (None, 1)                 65        \n",
            "=================================================================\n",
            "Total params: 4,737\n",
            "Trainable params: 4,737\n",
            "Non-trainable params: 0\n",
            "_________________________________________________________________\n"
          ],
          "name": "stdout"
        }
      ]
    },
    {
      "cell_type": "code",
      "metadata": {
        "id": "zN09QlKtdvPN",
        "colab_type": "code",
        "colab": {
          "base_uri": "https://localhost:8080/",
          "height": 1000
        },
        "outputId": "d747476d-36f8-46e3-9b18-6a83c1c526c4"
      },
      "source": [
        "history = model.fit(x_train,\n",
        "                    y_train,\n",
        "                    batch_size=60,\n",
        "                    epochs=30,\n",
        "                    validation_data=(x_test,y_test),\n",
        "                    )"
      ],
      "execution_count": 45,
      "outputs": [
        {
          "output_type": "stream",
          "text": [
            "Epoch 1/30\n",
            "6/6 [==============================] - 0s 19ms/step - loss: 37067.4062 - mean_absolute_error: 156.5796 - val_loss: 2483.4207 - val_mean_absolute_error: 48.8559\n",
            "Epoch 2/30\n",
            "6/6 [==============================] - 0s 9ms/step - loss: 9993.5615 - mean_absolute_error: 93.8348 - val_loss: 11759.0410 - val_mean_absolute_error: 105.4686\n",
            "Epoch 3/30\n",
            "6/6 [==============================] - 0s 9ms/step - loss: 6043.1597 - mean_absolute_error: 71.5208 - val_loss: 72.8189 - val_mean_absolute_error: 6.8310\n",
            "Epoch 4/30\n",
            "6/6 [==============================] - 0s 9ms/step - loss: 1101.0171 - mean_absolute_error: 26.0899 - val_loss: 3127.5964 - val_mean_absolute_error: 51.8459\n",
            "Epoch 5/30\n",
            "6/6 [==============================] - 0s 9ms/step - loss: 2296.2344 - mean_absolute_error: 43.3887 - val_loss: 468.4918 - val_mean_absolute_error: 18.2849\n",
            "Epoch 6/30\n",
            "6/6 [==============================] - 0s 9ms/step - loss: 239.5645 - mean_absolute_error: 12.8763 - val_loss: 703.1732 - val_mean_absolute_error: 25.9592\n",
            "Epoch 7/30\n",
            "6/6 [==============================] - 0s 9ms/step - loss: 780.4358 - mean_absolute_error: 27.1735 - val_loss: 327.7935 - val_mean_absolute_error: 17.3396\n",
            "Epoch 8/30\n",
            "6/6 [==============================] - 0s 11ms/step - loss: 162.8814 - mean_absolute_error: 10.6267 - val_loss: 196.8559 - val_mean_absolute_error: 11.4134\n",
            "Epoch 9/30\n",
            "6/6 [==============================] - 0s 9ms/step - loss: 273.2828 - mean_absolute_error: 13.5707 - val_loss: 187.2412 - val_mean_absolute_error: 11.1436\n",
            "Epoch 10/30\n",
            "6/6 [==============================] - 0s 9ms/step - loss: 119.0230 - mean_absolute_error: 8.7910 - val_loss: 84.3468 - val_mean_absolute_error: 7.6052\n",
            "Epoch 11/30\n",
            "6/6 [==============================] - 0s 9ms/step - loss: 123.2229 - mean_absolute_error: 9.0109 - val_loss: 88.8799 - val_mean_absolute_error: 7.8783\n",
            "Epoch 12/30\n",
            "6/6 [==============================] - 0s 9ms/step - loss: 83.9030 - mean_absolute_error: 7.2782 - val_loss: 74.2631 - val_mean_absolute_error: 7.0151\n",
            "Epoch 13/30\n",
            "6/6 [==============================] - 0s 9ms/step - loss: 89.1710 - mean_absolute_error: 7.7909 - val_loss: 66.7460 - val_mean_absolute_error: 6.6701\n",
            "Epoch 14/30\n",
            "6/6 [==============================] - 0s 10ms/step - loss: 72.6122 - mean_absolute_error: 6.9008 - val_loss: 62.8601 - val_mean_absolute_error: 6.3004\n",
            "Epoch 15/30\n",
            "6/6 [==============================] - 0s 9ms/step - loss: 77.4679 - mean_absolute_error: 7.0045 - val_loss: 57.5553 - val_mean_absolute_error: 6.0811\n",
            "Epoch 16/30\n",
            "6/6 [==============================] - 0s 9ms/step - loss: 71.0003 - mean_absolute_error: 6.8460 - val_loss: 61.1711 - val_mean_absolute_error: 6.3700\n",
            "Epoch 17/30\n",
            "6/6 [==============================] - 0s 9ms/step - loss: 70.8239 - mean_absolute_error: 6.8262 - val_loss: 56.5461 - val_mean_absolute_error: 6.0361\n",
            "Epoch 18/30\n",
            "6/6 [==============================] - 0s 9ms/step - loss: 69.3898 - mean_absolute_error: 6.6869 - val_loss: 56.5494 - val_mean_absolute_error: 6.0281\n",
            "Epoch 19/30\n",
            "6/6 [==============================] - 0s 10ms/step - loss: 69.4031 - mean_absolute_error: 6.6644 - val_loss: 55.8984 - val_mean_absolute_error: 5.9969\n",
            "Epoch 20/30\n",
            "6/6 [==============================] - 0s 9ms/step - loss: 68.4562 - mean_absolute_error: 6.6602 - val_loss: 56.3471 - val_mean_absolute_error: 6.0702\n",
            "Epoch 21/30\n",
            "6/6 [==============================] - 0s 9ms/step - loss: 68.0571 - mean_absolute_error: 6.6728 - val_loss: 55.4626 - val_mean_absolute_error: 6.0024\n",
            "Epoch 22/30\n",
            "6/6 [==============================] - 0s 9ms/step - loss: 67.2795 - mean_absolute_error: 6.6038 - val_loss: 54.8224 - val_mean_absolute_error: 5.9148\n",
            "Epoch 23/30\n",
            "6/6 [==============================] - 0s 11ms/step - loss: 67.3280 - mean_absolute_error: 6.5594 - val_loss: 54.6087 - val_mean_absolute_error: 5.9310\n",
            "Epoch 24/30\n",
            "6/6 [==============================] - 0s 9ms/step - loss: 66.3131 - mean_absolute_error: 6.5701 - val_loss: 55.8800 - val_mean_absolute_error: 6.0327\n",
            "Epoch 25/30\n",
            "6/6 [==============================] - 0s 10ms/step - loss: 66.5406 - mean_absolute_error: 6.6017 - val_loss: 53.9581 - val_mean_absolute_error: 5.8817\n",
            "Epoch 26/30\n",
            "6/6 [==============================] - 0s 9ms/step - loss: 65.8146 - mean_absolute_error: 6.5335 - val_loss: 53.5253 - val_mean_absolute_error: 5.8129\n",
            "Epoch 27/30\n",
            "6/6 [==============================] - 0s 9ms/step - loss: 65.4404 - mean_absolute_error: 6.4675 - val_loss: 53.0945 - val_mean_absolute_error: 5.8037\n",
            "Epoch 28/30\n",
            "6/6 [==============================] - 0s 9ms/step - loss: 64.5718 - mean_absolute_error: 6.4213 - val_loss: 53.2844 - val_mean_absolute_error: 5.8607\n",
            "Epoch 29/30\n",
            "6/6 [==============================] - 0s 9ms/step - loss: 64.2170 - mean_absolute_error: 6.4520 - val_loss: 52.5233 - val_mean_absolute_error: 5.8014\n",
            "Epoch 30/30\n",
            "6/6 [==============================] - 0s 9ms/step - loss: 63.8963 - mean_absolute_error: 6.4139 - val_loss: 51.9484 - val_mean_absolute_error: 5.6936\n"
          ],
          "name": "stdout"
        }
      ]
    },
    {
      "cell_type": "code",
      "metadata": {
        "id": "DOOTz9iQeOz7",
        "colab_type": "code",
        "colab": {
          "base_uri": "https://localhost:8080/",
          "height": 34
        },
        "outputId": "3cdcf140-f0ad-44f2-9468-844e47375f7f"
      },
      "source": [
        "#data normalization\n",
        "import sklearn\n",
        "from sklearn import preprocessing\n",
        "\n",
        "scaler = preprocessing.MinMaxScaler()\n",
        "scaler.fit(x_train)\n",
        "x_train_norm = scaler.transform(x_train)\n",
        "\n",
        "scaler2 = preprocessing.MinMaxScaler()\n",
        "scaler2.fit(x_test)\n",
        "x_test_norm = scaler2.transform(x_test)\n",
        "\n",
        "#print(x_train_norm, x_test_norm)\n",
        "print(x_train_norm.shape, x_test_norm.shape)"
      ],
      "execution_count": 46,
      "outputs": [
        {
          "output_type": "stream",
          "text": [
            "(318, 7) (80, 7)\n"
          ],
          "name": "stdout"
        }
      ]
    },
    {
      "cell_type": "code",
      "metadata": {
        "id": "v8w_greWm5HN",
        "colab_type": "code",
        "colab": {
          "base_uri": "https://localhost:8080/",
          "height": 1000
        },
        "outputId": "4926b22f-9a8e-4af3-aa92-3874026fe9d3"
      },
      "source": [
        "history = model.fit(x_train_norm,\n",
        "                    y_train,\n",
        "                    batch_size=60,\n",
        "                    epochs=30,\n",
        "                    validation_data=(x_test_norm,y_test),\n",
        "                    )"
      ],
      "execution_count": 47,
      "outputs": [
        {
          "output_type": "stream",
          "text": [
            "Epoch 1/30\n",
            "6/6 [==============================] - 0s 18ms/step - loss: 610.9911 - mean_absolute_error: 23.4201 - val_loss: 578.1923 - val_mean_absolute_error: 22.8766\n",
            "Epoch 2/30\n",
            "6/6 [==============================] - 0s 7ms/step - loss: 599.4794 - mean_absolute_error: 23.1723 - val_loss: 561.3620 - val_mean_absolute_error: 22.4974\n",
            "Epoch 3/30\n",
            "6/6 [==============================] - 0s 7ms/step - loss: 580.0314 - mean_absolute_error: 22.7364 - val_loss: 533.9581 - val_mean_absolute_error: 21.8661\n",
            "Epoch 4/30\n",
            "6/6 [==============================] - 0s 7ms/step - loss: 549.9756 - mean_absolute_error: 22.0514 - val_loss: 493.8680 - val_mean_absolute_error: 20.9130\n",
            "Epoch 5/30\n",
            "6/6 [==============================] - 0s 7ms/step - loss: 506.5936 - mean_absolute_error: 21.0285 - val_loss: 439.7053 - val_mean_absolute_error: 19.5520\n",
            "Epoch 6/30\n",
            "6/6 [==============================] - 0s 7ms/step - loss: 449.6403 - mean_absolute_error: 19.6028 - val_loss: 372.4759 - val_mean_absolute_error: 17.7039\n",
            "Epoch 7/30\n",
            "6/6 [==============================] - 0s 7ms/step - loss: 380.4458 - mean_absolute_error: 17.7098 - val_loss: 296.6217 - val_mean_absolute_error: 15.3511\n",
            "Epoch 8/30\n",
            "6/6 [==============================] - 0s 7ms/step - loss: 305.5529 - mean_absolute_error: 15.2971 - val_loss: 219.6483 - val_mean_absolute_error: 12.6267\n",
            "Epoch 9/30\n",
            "6/6 [==============================] - 0s 7ms/step - loss: 229.1640 - mean_absolute_error: 12.6063 - val_loss: 153.1231 - val_mean_absolute_error: 10.1536\n",
            "Epoch 10/30\n",
            "6/6 [==============================] - 0s 7ms/step - loss: 164.6460 - mean_absolute_error: 10.4439 - val_loss: 105.9387 - val_mean_absolute_error: 8.6158\n",
            "Epoch 11/30\n",
            "6/6 [==============================] - 0s 7ms/step - loss: 119.4715 - mean_absolute_error: 8.9962 - val_loss: 83.8083 - val_mean_absolute_error: 7.8520\n",
            "Epoch 12/30\n",
            "6/6 [==============================] - 0s 7ms/step - loss: 95.6234 - mean_absolute_error: 8.2198 - val_loss: 78.5781 - val_mean_absolute_error: 7.5370\n",
            "Epoch 13/30\n",
            "6/6 [==============================] - 0s 7ms/step - loss: 84.0846 - mean_absolute_error: 7.7809 - val_loss: 74.7762 - val_mean_absolute_error: 7.2097\n",
            "Epoch 14/30\n",
            "6/6 [==============================] - 0s 7ms/step - loss: 76.6978 - mean_absolute_error: 7.4490 - val_loss: 67.3974 - val_mean_absolute_error: 6.7889\n",
            "Epoch 15/30\n",
            "6/6 [==============================] - 0s 7ms/step - loss: 68.3700 - mean_absolute_error: 7.0104 - val_loss: 57.9652 - val_mean_absolute_error: 6.2830\n",
            "Epoch 16/30\n",
            "6/6 [==============================] - 0s 7ms/step - loss: 60.8836 - mean_absolute_error: 6.5748 - val_loss: 48.6963 - val_mean_absolute_error: 5.7542\n",
            "Epoch 17/30\n",
            "6/6 [==============================] - 0s 8ms/step - loss: 54.8712 - mean_absolute_error: 6.1864 - val_loss: 41.6719 - val_mean_absolute_error: 5.3070\n",
            "Epoch 18/30\n",
            "6/6 [==============================] - 0s 7ms/step - loss: 49.8066 - mean_absolute_error: 5.8304 - val_loss: 36.6035 - val_mean_absolute_error: 4.9409\n",
            "Epoch 19/30\n",
            "6/6 [==============================] - 0s 7ms/step - loss: 45.4863 - mean_absolute_error: 5.5299 - val_loss: 33.1445 - val_mean_absolute_error: 4.6561\n",
            "Epoch 20/30\n",
            "6/6 [==============================] - 0s 7ms/step - loss: 41.5676 - mean_absolute_error: 5.2661 - val_loss: 30.7818 - val_mean_absolute_error: 4.4860\n",
            "Epoch 21/30\n",
            "6/6 [==============================] - 0s 7ms/step - loss: 38.5060 - mean_absolute_error: 5.0605 - val_loss: 28.6027 - val_mean_absolute_error: 4.3347\n",
            "Epoch 22/30\n",
            "6/6 [==============================] - 0s 7ms/step - loss: 35.8717 - mean_absolute_error: 4.8648 - val_loss: 26.7161 - val_mean_absolute_error: 4.1858\n",
            "Epoch 23/30\n",
            "6/6 [==============================] - 0s 7ms/step - loss: 33.6848 - mean_absolute_error: 4.6879 - val_loss: 25.0795 - val_mean_absolute_error: 4.0415\n",
            "Epoch 24/30\n",
            "6/6 [==============================] - 0s 7ms/step - loss: 31.9346 - mean_absolute_error: 4.5396 - val_loss: 23.7367 - val_mean_absolute_error: 3.9318\n",
            "Epoch 25/30\n",
            "6/6 [==============================] - 0s 7ms/step - loss: 30.5041 - mean_absolute_error: 4.4086 - val_loss: 22.2803 - val_mean_absolute_error: 3.8024\n",
            "Epoch 26/30\n",
            "6/6 [==============================] - 0s 8ms/step - loss: 29.2383 - mean_absolute_error: 4.2811 - val_loss: 21.4363 - val_mean_absolute_error: 3.7229\n",
            "Epoch 27/30\n",
            "6/6 [==============================] - 0s 9ms/step - loss: 28.3215 - mean_absolute_error: 4.1763 - val_loss: 20.0276 - val_mean_absolute_error: 3.5581\n",
            "Epoch 28/30\n",
            "6/6 [==============================] - 0s 7ms/step - loss: 27.4443 - mean_absolute_error: 4.0767 - val_loss: 19.4027 - val_mean_absolute_error: 3.4852\n",
            "Epoch 29/30\n",
            "6/6 [==============================] - 0s 7ms/step - loss: 26.7796 - mean_absolute_error: 4.0137 - val_loss: 19.3713 - val_mean_absolute_error: 3.4882\n",
            "Epoch 30/30\n",
            "6/6 [==============================] - 0s 7ms/step - loss: 26.1135 - mean_absolute_error: 3.9561 - val_loss: 18.9448 - val_mean_absolute_error: 3.4499\n"
          ],
          "name": "stdout"
        }
      ]
    }
  ]
}