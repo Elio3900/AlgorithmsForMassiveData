{
  "nbformat": 4,
  "nbformat_minor": 0,
  "metadata": {
    "colab": {
      "name": "OCULAR_DISEASE_AUGMENTATION.ipynb",
      "provenance": [],
      "authorship_tag": "ABX9TyMJreW8XnL5B3i6tydRJyUs",
      "include_colab_link": true
    },
    "kernelspec": {
      "name": "python3",
      "display_name": "Python 3"
    }
  },
  "cells": [
    {
      "cell_type": "markdown",
      "metadata": {
        "id": "view-in-github",
        "colab_type": "text"
      },
      "source": [
        "<a href=\"https://colab.research.google.com/github/GrzegorzMeller/AlgorithmsForMassiveData/blob/master/OCULAR_DISEASE_AUGMENTATION.ipynb\" target=\"_parent\"><img src=\"https://colab.research.google.com/assets/colab-badge.svg\" alt=\"Open In Colab\"/></a>"
      ]
    },
    {
      "cell_type": "code",
      "metadata": {
        "id": "9CATT2uywzBd",
        "colab_type": "code",
        "colab": {
          "base_uri": "https://localhost:8080/",
          "height": 34
        },
        "outputId": "552536b7-939b-4217-b210-ad73910e34f1"
      },
      "source": [
        "from google.colab import drive\n",
        "drive.mount('/amd/')"
      ],
      "execution_count": 16,
      "outputs": [
        {
          "output_type": "stream",
          "text": [
            "Drive already mounted at /amd/; to attempt to forcibly remount, call drive.mount(\"/amd/\", force_remount=True).\n"
          ],
          "name": "stdout"
        }
      ]
    },
    {
      "cell_type": "code",
      "metadata": {
        "id": "myo7rbQUbqC6",
        "colab_type": "code",
        "colab": {}
      },
      "source": [
        "!cp /amd/My\\ Drive/ODIR-5K.zip /content/\n",
        "!unzip ODIR-5K.zip"
      ],
      "execution_count": 0,
      "outputs": []
    },
    {
      "cell_type": "code",
      "metadata": {
        "id": "OAAe9eGbEvey",
        "colab_type": "code",
        "outputId": "8ad77206-67b6-46a0-e5b4-3e25252a9101",
        "colab": {
          "base_uri": "https://localhost:8080/",
          "height": 34
        }
      },
      "source": [
        "def show_class_distribution():\n",
        "  N = 0\n",
        "  D=0\n",
        "  G=0\n",
        "  C=0\n",
        "  A=0\n",
        "  H=0\n",
        "  M=0\n",
        "  O = 0\n",
        "  X = 0\n",
        "  for element in glob.glob(\"ODIR-5K/Training Images/*.jpg\"):\n",
        "    img_name = element.split(\"/\")[-1]\n",
        "    img_label = img_name.split(\"-\")\n",
        "    if img_label[-1] == \"N.jpg\":\n",
        "      N += 1\n",
        "    elif img_label[-1] == \"D.jpg\":\n",
        "      D +=1\n",
        "    elif img_label[-1] == \"G.jpg\":\n",
        "      G +=1\n",
        "    elif img_label[-1] == \"C.jpg\":\n",
        "      C +=1\n",
        "    elif img_label[-1] == \"A.jpg\":\n",
        "      A +=1\n",
        "    elif img_label[-1] == \"H.jpg\":\n",
        "      H +=1\n",
        "    elif img_label[-1] == \"M.jpg\":\n",
        "      M +=1\n",
        "    elif img_label[-1] == \"O.jpg\":\n",
        "      O +=1\n",
        "    elif \"&\" in img_label[-1]:\n",
        "      X +=1  \n",
        "  print(N, D, G, C, A, H, M, O, X)\n",
        "show_class_distribution()"
      ],
      "execution_count": 8,
      "outputs": [
        {
          "output_type": "stream",
          "text": [
            "2476 1213 193 233 205 92 212 657 483\n"
          ],
          "name": "stdout"
        }
      ]
    },
    {
      "cell_type": "code",
      "metadata": {
        "id": "eGUrR8NUwM4W",
        "colab_type": "code",
        "colab": {}
      },
      "source": [
        "import cv2 as cv\n",
        "import numpy as np\n",
        "import matplotlib.pyplot as plt\n",
        "import random\n",
        "import glob\n",
        "from PIL import Image, ImageEnhance\n",
        "\n",
        "def cv2_clipped_zoom(img, zoom_factor):\n",
        "    height, width = img.shape[:2] # It's also the final desired shape\n",
        "    new_height, new_width = int(height * zoom_factor), int(width * zoom_factor)\n",
        "    y1, x1 = max(0, new_height - height) // 2, max(0, new_width - width) // 2\n",
        "    y2, x2 = y1 + height, x1 + width\n",
        "    bbox = np.array([y1,x1,y2,x2])\n",
        "    # Map back to original image coordinates\n",
        "    bbox = (bbox / zoom_factor).astype(np.int)\n",
        "    y1, x1, y2, x2 = bbox\n",
        "    cropped_img = img[y1:y2, x1:x2]\n",
        "\n",
        "    # Handle padding when downscaling\n",
        "    resize_height, resize_width = min(new_height, height), min(new_width, width)\n",
        "    pad_height1, pad_width1 = (height - resize_height) // 2, (width - resize_width) //2\n",
        "    pad_height2, pad_width2 = (height - resize_height) - pad_height1, (width - resize_width) - pad_width1\n",
        "    pad_spec = [(pad_height1, pad_height2), (pad_width1, pad_width2)] + [(0,0)] * (img.ndim - 2)\n",
        "\n",
        "    result = cv.resize(cropped_img, (resize_width, resize_height))\n",
        "    result = np.pad(result, pad_spec, mode='constant')\n",
        "    assert result.shape[0] == height and result.shape[1] == width\n",
        "    return result\n",
        "\n",
        "def aumgent_9(impath):\n",
        "  img = cv.imread(impath,0)\n",
        "  im1 = cv.flip(img, 0) #Vertical Flip\n",
        "  im2 = cv.flip(img, 1) #Horizontal Flip\n",
        "  im3 = cv.flip(img, -1) #Flip Both\n",
        "  im4 = cv2_clipped_zoom(img, random.uniform(0.9,1.3))\n",
        "  im5 = cv2_clipped_zoom(im1, random.uniform(0.9,1.3))\n",
        "  im6 = cv2_clipped_zoom(im2, random.uniform(0.9,1.3))\n",
        "  file_name = impath.split('/')\n",
        "  new_path = file_name[-1].split('-') \n",
        "  cv.imwrite(\"ODIR-5K/Training Images/\"+new_path[0]+\"VF-\"+new_path[1],im1)\n",
        "  cv.imwrite(\"ODIR-5K/Training Images/\"+new_path[0]+\"HF-\"+new_path[1],im2)\n",
        "  cv.imwrite(\"ODIR-5K/Training Images/\"+new_path[0]+\"BF-\"+new_path[1],im3)\n",
        "  cv.imwrite(\"ODIR-5K/Training Images/\"+new_path[0]+\"ZM-\"+new_path[1],im4)\n",
        "  cv.imwrite(\"ODIR-5K/Training Images/\"+new_path[0]+\"VFZM-\"+new_path[1],im5)\n",
        "  #image random rotating and brightening using PIL\n",
        "  img_org = Image.open(impath)\n",
        "  enhancer = ImageEnhance.Brightness(img_org)\n",
        "  im7 = enhancer.enhance(random.uniform(1.0,1.3))\n",
        "  im8 = img_org.rotate(random.uniform(0,10))\n",
        "  img_ver = Image.open(\"ODIR-5K/Training Images/\"+new_path[0]+\"VF-\"+new_path[1])\n",
        "  im9 = img_ver.rotate(random.uniform(0,10))\n",
        "  im7.save(\"ODIR-5K/Training Images/\"+new_path[0]+\"RB-\"+new_path[1])\n",
        "  im8.save(\"ODIR-5K/Training Images/\"+new_path[0]+\"RR-\"+new_path[1])\n",
        "  im9.save(\"ODIR-5K/Training Images/\"+new_path[0]+\"VFRR-\"+new_path[1])\n",
        "\n",
        "\n",
        "#aumgent_1 will be applied to class D and O, since they don't need to be aumgmented so much in order to balance the dataset\n",
        "def aumgent_1(impath):\n",
        "  img = cv.imread(impath,0)\n",
        "  im1 = cv.flip(img, 0) #Vertical Flip\n",
        "  file_name = impath.split('/')\n",
        "  new_path = file_name[-1].split('-') \n",
        "  cv.imwrite(\"ODIR-5K/Training Images/\"+new_path[0]+\"VF-\"+new_path[1],im1)\n",
        "\n"
      ],
      "execution_count": 0,
      "outputs": []
    },
    {
      "cell_type": "code",
      "metadata": {
        "id": "JTaddqNubivK",
        "colab_type": "code",
        "colab": {}
      },
      "source": [
        "labels = [\"G.jpg\", \"C.jpg\", \"A.jpg\", \"H.jpg\", \"M.jpg\"]\n",
        "labels2 = [\"D.jpg\", \"O.jpg\"]\n",
        "\n",
        "for element in glob.glob(\"ODIR-5K/Training Images/*.jpg\"):\n",
        "  file_name = element.split('/')\n",
        "  new_path = file_name[-1].split('-') \n",
        "  for l in labels:\n",
        "    if new_path[-1] == l:\n",
        "      aumgent_9(element)\n",
        "  for l in labels2:\n",
        "    if new_path[-1] == l:\n",
        "      aumgent_1(element)"
      ],
      "execution_count": 0,
      "outputs": []
    },
    {
      "cell_type": "code",
      "metadata": {
        "id": "4OCwrtbsGxdI",
        "colab_type": "code",
        "outputId": "eb44fba1-51f3-413e-cf71-46b4751c9e0f",
        "colab": {
          "base_uri": "https://localhost:8080/",
          "height": 34
        }
      },
      "source": [
        "show_class_distribution()"
      ],
      "execution_count": 12,
      "outputs": [
        {
          "output_type": "stream",
          "text": [
            "2476 2426 1737 2097 1845 828 1908 1314 483\n"
          ],
          "name": "stdout"
        }
      ]
    },
    {
      "cell_type": "code",
      "metadata": {
        "id": "tOC4fYGnHJa_",
        "colab_type": "code",
        "colab": {}
      },
      "source": [
        "!zip -r ODIR-5K.zip ODIR-5K/"
      ],
      "execution_count": 0,
      "outputs": []
    },
    {
      "cell_type": "code",
      "metadata": {
        "id": "XNP0E8AwIxPC",
        "colab_type": "code",
        "colab": {}
      },
      "source": [
        "!cp -r ODIR-5K.zip /amd/My\\ Drive"
      ],
      "execution_count": 0,
      "outputs": []
    },
    {
      "cell_type": "code",
      "metadata": {
        "id": "DW81gIAnEY9m",
        "colab_type": "code",
        "colab": {}
      },
      "source": [
        "!rm -rf ODIR-5K/"
      ],
      "execution_count": 0,
      "outputs": []
    }
  ]
}