{
  "nbformat": 4,
  "nbformat_minor": 0,
  "metadata": {
    "colab": {
      "name": "OCULAR_DISEASE_RECOGNITION.ipynb",
      "provenance": [],
      "authorship_tag": "ABX9TyPoI+BEAdsM8O6Bjux67Fud",
      "include_colab_link": true
    },
    "kernelspec": {
      "name": "python3",
      "display_name": "Python 3"
    },
    "accelerator": "GPU"
  },
  "cells": [
    {
      "cell_type": "markdown",
      "metadata": {
        "id": "view-in-github",
        "colab_type": "text"
      },
      "source": [
        "<a href=\"https://colab.research.google.com/github/GrzegorzMeller/AlgorithmsForMassiveData/blob/master/OCULAR_DISEASE_RECOGNITION.ipynb\" target=\"_parent\"><img src=\"https://colab.research.google.com/assets/colab-badge.svg\" alt=\"Open In Colab\"/></a>"
      ]
    },
    {
      "cell_type": "code",
      "metadata": {
        "id": "ANrjiG86D2-R",
        "colab_type": "code",
        "colab": {
          "base_uri": "https://localhost:8080/",
          "height": 67
        },
        "outputId": "c2389112-e728-44eb-99ff-8b32f6ee57d0"
      },
      "source": [
        "!kaggle datasets download -d andrewmvd/ocular-disease-recognition-odir5k\n",
        "!unzip ocular-disease-recognition-odir5k.zip"
      ],
      "execution_count": 20,
      "outputs": [
        {
          "output_type": "stream",
          "text": [
            "Downloading ocular-disease-recognition-odir5k.zip to /content\n",
            " 98% 1.23G/1.26G [00:16<00:00, 42.7MB/s]\n",
            "100% 1.26G/1.26G [00:16<00:00, 82.0MB/s]\n"
          ],
          "name": "stdout"
        }
      ]
    },
    {
      "cell_type": "code",
      "metadata": {
        "id": "IS8mAxcQZR4e",
        "colab_type": "code",
        "colab": {}
      },
      "source": [
        "import tensorflow as tf\n",
        "image_generator = tf.keras.preprocessing.image.ImageDataGenerator(rescale=1./255)"
      ],
      "execution_count": 0,
      "outputs": []
    },
    {
      "cell_type": "code",
      "metadata": {
        "id": "HMIcN7tBcI6K",
        "colab_type": "code",
        "colab": {}
      },
      "source": [
        "BATCH_SIZE = 32\n",
        "IMG_HEIGHT = 224\n",
        "IMG_WIDTH = 224\n",
        "\n",
        "training_images_file = 'ODIR-5K/Training_Images'\n",
        "testing_images_file = 'ODIR-5K/Testing_Images'\n",
        "labels_file = 'ODIR-5K/data.xlsx'"
      ],
      "execution_count": 0,
      "outputs": []
    },
    {
      "cell_type": "code",
      "metadata": {
        "id": "CNffwVdjhvi_",
        "colab_type": "code",
        "colab": {
          "base_uri": "https://localhost:8080/",
          "height": 34
        },
        "outputId": "e51124e0-4bc8-4893-9c9b-03b3f5d83ca1"
      },
      "source": [
        "#load labels to pandas\n",
        "import pandas as pd\n",
        "labels = pd.read_excel(labels_file, index_col=0) \n",
        "labels['Left-Diagnostic Keywords'][0]"
      ],
      "execution_count": 30,
      "outputs": [
        {
          "output_type": "execute_result",
          "data": {
            "text/plain": [
              "'cataract'"
            ]
          },
          "metadata": {
            "tags": []
          },
          "execution_count": 30
        }
      ]
    },
    {
      "cell_type": "code",
      "metadata": {
        "id": "tv0bPjOYZc0y",
        "colab_type": "code",
        "colab": {}
      },
      "source": [
        "list_ds = tf.data.Dataset.list_files(\"ODIR-5K/Training_Images/*.jpg\")"
      ],
      "execution_count": 0,
      "outputs": []
    },
    {
      "cell_type": "code",
      "metadata": {
        "id": "gqw30b9ebBxl",
        "colab_type": "code",
        "colab": {
          "base_uri": "https://localhost:8080/",
          "height": 101
        },
        "outputId": "4a9c4555-64af-4714-b461-39b5a8d9fba8"
      },
      "source": [
        "for f in list_ds.take(5):\n",
        "  print(f.numpy())"
      ],
      "execution_count": 22,
      "outputs": [
        {
          "output_type": "stream",
          "text": [
            "b'ODIR-5K/Training_Images/2505_left.jpg'\n",
            "b'ODIR-5K/Training_Images/2774_left.jpg'\n",
            "b'ODIR-5K/Training_Images/492_left.jpg'\n",
            "b'ODIR-5K/Training_Images/12_right.jpg'\n",
            "b'ODIR-5K/Training_Images/4126_left.jpg'\n"
          ],
          "name": "stdout"
        }
      ]
    },
    {
      "cell_type": "code",
      "metadata": {
        "id": "BMqli2_pdZZ5",
        "colab_type": "code",
        "colab": {
          "base_uri": "https://localhost:8080/",
          "height": 34
        },
        "outputId": "0bb56db2-0386-40c8-85da-1d27f798efcc"
      },
      "source": [
        "def get_label(file_path):\n",
        "  u_id = str(file_path).split(\"/\")[2].split(\"_\")[0]\n",
        "  label = \"\"\n",
        "  if labels['Left-Diagnostic Keywords'][int(u_id)] == \"normal fundus\":\n",
        "    label = \"N\"\n",
        "  elif labels['D'][int(u_id)] == 1:\n",
        "    label = \"D\"\n",
        "  elif labels['G'][int(u_id)] == 1:\n",
        "    label = \"G\"\n",
        "  elif labels['C'][int(u_id)] == 1:\n",
        "    label = \"C\"\n",
        "  elif labels['A'][int(u_id)] == 1:\n",
        "    label = \"A\"\n",
        "  elif labels['H'][int(u_id)] == 1:\n",
        "    label = \"H\"\n",
        "  elif labels['M'][int(u_id)] == 1:\n",
        "    label = \"M\"\n",
        "  elif labels['O'][int(u_id)] == 1:\n",
        "    label = \"O\"\n",
        "  return label\n",
        "\n",
        "#get_label(\"ODIR-5K/Training_Images/0_left.jpg\")"
      ],
      "execution_count": 34,
      "outputs": [
        {
          "output_type": "execute_result",
          "data": {
            "text/plain": [
              "'C'"
            ]
          },
          "metadata": {
            "tags": []
          },
          "execution_count": 34
        }
      ]
    },
    {
      "cell_type": "code",
      "metadata": {
        "id": "YYAaFraCpYze",
        "colab_type": "code",
        "colab": {}
      },
      "source": [
        ""
      ],
      "execution_count": 0,
      "outputs": []
    }
  ]
}