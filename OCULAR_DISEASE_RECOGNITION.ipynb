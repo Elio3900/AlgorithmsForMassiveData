{
  "nbformat": 4,
  "nbformat_minor": 0,
  "metadata": {
    "colab": {
      "name": "OCULAR_DISEASE_RECOGNITION.ipynb",
      "provenance": [],
      "collapsed_sections": [],
      "authorship_tag": "ABX9TyPR1dymphOKW7BQyYopMhCU",
      "include_colab_link": true
    },
    "kernelspec": {
      "name": "python3",
      "display_name": "Python 3"
    },
    "accelerator": "GPU"
  },
  "cells": [
    {
      "cell_type": "markdown",
      "metadata": {
        "id": "view-in-github",
        "colab_type": "text"
      },
      "source": [
        "<a href=\"https://colab.research.google.com/github/GrzegorzMeller/AlgorithmsForMassiveData/blob/master/OCULAR_DISEASE_RECOGNITION.ipynb\" target=\"_parent\"><img src=\"https://colab.research.google.com/assets/colab-badge.svg\" alt=\"Open In Colab\"/></a>"
      ]
    },
    {
      "cell_type": "code",
      "metadata": {
        "id": "ANrjiG86D2-R",
        "colab_type": "code",
        "colab": {}
      },
      "source": [
        "!cp kaggle.json ~/.kaggle/\n",
        "!kaggle datasets download -d andrewmvd/ocular-disease-recognition-odir5k\n",
        "!unzip ocular-disease-recognition-odir5k.zip\n",
        "!mkdir ODIR-5K/Validation_Images"
      ],
      "execution_count": 0,
      "outputs": []
    },
    {
      "cell_type": "code",
      "metadata": {
        "id": "K1PUGi1QB6BO",
        "colab_type": "code",
        "colab": {}
      },
      "source": [
        "!unzip Training-Images32x32.zip\n",
        "!mkdir ODIR-5K/Validation_Images"
      ],
      "execution_count": 0,
      "outputs": []
    },
    {
      "cell_type": "code",
      "metadata": {
        "id": "IS8mAxcQZR4e",
        "colab_type": "code",
        "outputId": "c14ab6e2-6c18-45ed-b5a0-5d77ea30f2d7",
        "colab": {
          "base_uri": "https://localhost:8080/",
          "height": 71
        }
      },
      "source": [
        "import tensorflow as tf\n",
        "import pandas as pd\n",
        "import os\n",
        "from PIL import Image\n",
        "import matplotlib.pyplot as plt\n",
        "import IPython.display as display\n",
        "import numpy as np\n",
        "import glob\n",
        "import random\n",
        "\n",
        "BATCH_SIZE = 32\n",
        "IMG_HEIGHT = 32\n",
        "IMG_WIDTH = 32\n",
        "CLASS_NAMES = ['N', 'D', 'G', 'C', 'A', 'H', 'M', 'O']\n",
        "\n",
        "training_images_file = 'ODIR-5K/Training Images'\n",
        "testing_images_file = 'ODIR-5K/Testing Images'\n",
        "labels_file = 'ODIR-5K/data.xlsx'\n",
        "\n",
        "diseases = {'abnormal pigment ': 'O', 'age-related macular degeneration': 'A', 'anterior segment image': 'DELETE', 'arteriosclerosis': 'NaN', 'asteroid hyalosis': 'O', 'atrophic change': 'O', 'atrophy': 'O', 'branch retinal artery occlusion': 'O', 'branch retinal vein occlusion': 'O', 'cataract': 'C', 'central retinal artery occlusion': 'O', 'central retinal vein occlusion': 'O', 'central serous chorioretinopathy': 'O', 'chorioretinal atrophy': 'O', 'chorioretinal atrophy with pigmentation proliferation': 'O', 'choroidal nevus': 'NaN', 'congenital choroidal coloboma': 'O', 'depigmentation of the retinal pigment epithelium': 'O', 'diabetic retinopathy': 'D', 'diffuse chorioretinal atrophy': 'O', 'diffuse retinal atrophy': 'O', 'drusen': 'O', 'dry age-related macular degeneration': 'A', 'epiretinal membrane': 'O', 'epiretinal membrane over the macula': 'O', 'fundus laser photocoagulation spots': 'O', 'glaucoma': 'G', 'glial remnants anterior to the optic disc': 'O', 'hypertensive retinopathy': 'H', 'hypertensive retinopathy,diabetic retinopathy': 'D', 'idiopathic choroidal neovascularization': 'O', 'image offset': 'DELETE', 'intraretinal hemorrhage': 'O', 'intraretinal microvascular abnormality': 'O', 'laser spot': 'O', 'lens dust': 'DELETE', 'low image quality': 'DELETE', 'low image quality,maculopathy': 'DELETE', 'macular coloboma': 'O', 'macular epiretinal membrane': 'O', 'macular hole': 'O', 'macular pigmentation disorder': 'NaN', 'maculopathy': 'O', 'mild nonproliferative retinopathy': 'D', 'moderate non proliferative retinopathy': 'D', 'morning glory syndrome': 'O', 'myelinated nerve fibers': 'O', 'myopia retinopathy': 'M', 'myopic maculopathy': 'M', 'myopic retinopathy': 'M', 'no fundus image': 'DELETE', 'normal fundus': 'N', 'old branch retinal vein occlusion': 'O', 'old central retinal vein occlusion': 'O', 'old chorioretinopathy': 'O', 'old choroiditis': 'NaN', 'optic disc edema': 'O', 'optic discitis': 'O', 'optic disk epiretinal membrane': 'O', 'optic disk photographically invisible': 'DELETE', 'optic nerve atrophy': 'O', 'oval yellow-white atrophy': 'O', 'pathological myopia': 'M', 'peripapillary atrophy': 'O', 'pigment epithelium proliferation': 'O', 'pigmentation disorder': 'O', 'post laser photocoagulation': 'O', 'post retinal laser surgery': 'O', 'proliferative diabetic retinopathy': 'D', 'punctate inner choroidopathy': 'O', 'refractive media opacity': 'O', 'retina fold': 'O', 'retinal artery macroaneurysm': 'O', 'retinal detachment': 'O', 'retinal pigment epithelial hypertrophy': 'O', 'retinal pigment epithelium atrophy': 'O', 'retinal pigmentation': 'O', 'retinal vascular sheathing': 'O', 'retinitis pigmentosa': 'O', 'retinochoroidal coloboma': 'O', 'rhegmatogenous retinal detachment': 'O', 'severe nonproliferative retinopathy': 'D', 'severe proliferative diabetic retinopathy': 'D', 'silicone oil eye': 'O', 'spotted membranous change': 'O', 'suspected abnormal color of  optic disc': 'O', 'suspected cataract': 'C', 'suspected diabetic retinopathy': 'D', 'suspected glaucoma': 'G', 'suspected macular epimacular membrane': 'O', 'suspected microvascular anomalies': 'O', 'suspected moderate non proliferative retinopathy': 'D', 'suspected retinal vascular sheathing': 'O', 'suspected retinitis pigmentosa': 'O', 'suspicious diabetic retinopathy': 'D', 'tessellated fundus': 'O', 'vascular loops': 'O', 'vessel tortuosity': 'O', 'vitreous degeneration': 'O', 'vitreous opacity': 'O', 'wedge white line change': 'O', 'wedge-shaped change': 'O', 'wet age-related macular degeneration': 'A', 'white vessel': 'O'}\n",
        "\n",
        "#load labels to pandas\n",
        "labels = pd.read_excel(labels_file, index_col=0) \n",
        "print(labels['Left-Diagnostic Keywords'][0])\n",
        "print(diseases)"
      ],
      "execution_count": 1,
      "outputs": [
        {
          "output_type": "stream",
          "text": [
            "cataract\n",
            "{'abnormal pigment ': 'O', 'age-related macular degeneration': 'A', 'anterior segment image': 'DELETE', 'arteriosclerosis': 'NaN', 'asteroid hyalosis': 'O', 'atrophic change': 'O', 'atrophy': 'O', 'branch retinal artery occlusion': 'O', 'branch retinal vein occlusion': 'O', 'cataract': 'C', 'central retinal artery occlusion': 'O', 'central retinal vein occlusion': 'O', 'central serous chorioretinopathy': 'O', 'chorioretinal atrophy': 'O', 'chorioretinal atrophy with pigmentation proliferation': 'O', 'choroidal nevus': 'NaN', 'congenital choroidal coloboma': 'O', 'depigmentation of the retinal pigment epithelium': 'O', 'diabetic retinopathy': 'D', 'diffuse chorioretinal atrophy': 'O', 'diffuse retinal atrophy': 'O', 'drusen': 'O', 'dry age-related macular degeneration': 'A', 'epiretinal membrane': 'O', 'epiretinal membrane over the macula': 'O', 'fundus laser photocoagulation spots': 'O', 'glaucoma': 'G', 'glial remnants anterior to the optic disc': 'O', 'hypertensive retinopathy': 'H', 'hypertensive retinopathy,diabetic retinopathy': 'D', 'idiopathic choroidal neovascularization': 'O', 'image offset': 'DELETE', 'intraretinal hemorrhage': 'O', 'intraretinal microvascular abnormality': 'O', 'laser spot': 'O', 'lens dust': 'DELETE', 'low image quality': 'DELETE', 'low image quality,maculopathy': 'DELETE', 'macular coloboma': 'O', 'macular epiretinal membrane': 'O', 'macular hole': 'O', 'macular pigmentation disorder': 'NaN', 'maculopathy': 'O', 'mild nonproliferative retinopathy': 'D', 'moderate non proliferative retinopathy': 'D', 'morning glory syndrome': 'O', 'myelinated nerve fibers': 'O', 'myopia retinopathy': 'M', 'myopic maculopathy': 'M', 'myopic retinopathy': 'M', 'no fundus image': 'DELETE', 'normal fundus': 'N', 'old branch retinal vein occlusion': 'O', 'old central retinal vein occlusion': 'O', 'old chorioretinopathy': 'O', 'old choroiditis': 'NaN', 'optic disc edema': 'O', 'optic discitis': 'O', 'optic disk epiretinal membrane': 'O', 'optic disk photographically invisible': 'DELETE', 'optic nerve atrophy': 'O', 'oval yellow-white atrophy': 'O', 'pathological myopia': 'M', 'peripapillary atrophy': 'O', 'pigment epithelium proliferation': 'O', 'pigmentation disorder': 'O', 'post laser photocoagulation': 'O', 'post retinal laser surgery': 'O', 'proliferative diabetic retinopathy': 'D', 'punctate inner choroidopathy': 'O', 'refractive media opacity': 'O', 'retina fold': 'O', 'retinal artery macroaneurysm': 'O', 'retinal detachment': 'O', 'retinal pigment epithelial hypertrophy': 'O', 'retinal pigment epithelium atrophy': 'O', 'retinal pigmentation': 'O', 'retinal vascular sheathing': 'O', 'retinitis pigmentosa': 'O', 'retinochoroidal coloboma': 'O', 'rhegmatogenous retinal detachment': 'O', 'severe nonproliferative retinopathy': 'D', 'severe proliferative diabetic retinopathy': 'D', 'silicone oil eye': 'O', 'spotted membranous change': 'O', 'suspected abnormal color of  optic disc': 'O', 'suspected cataract': 'C', 'suspected diabetic retinopathy': 'D', 'suspected glaucoma': 'G', 'suspected macular epimacular membrane': 'O', 'suspected microvascular anomalies': 'O', 'suspected moderate non proliferative retinopathy': 'D', 'suspected retinal vascular sheathing': 'O', 'suspected retinitis pigmentosa': 'O', 'suspicious diabetic retinopathy': 'D', 'tessellated fundus': 'O', 'vascular loops': 'O', 'vessel tortuosity': 'O', 'vitreous degeneration': 'O', 'vitreous opacity': 'O', 'wedge white line change': 'O', 'wedge-shaped change': 'O', 'wet age-related macular degeneration': 'A', 'white vessel': 'O'}\n"
          ],
          "name": "stdout"
        }
      ]
    },
    {
      "cell_type": "code",
      "metadata": {
        "id": "UNoYEbeJYYAW",
        "colab_type": "code",
        "colab": {}
      },
      "source": [
        "def update_filenames(file_path):\n",
        "  all_paths = []\n",
        "  for element in glob.glob(file_path+\"/*.jpg\"):\n",
        "    all_paths.append(element)\n",
        "  paths = []\n",
        "\n",
        "  for u_id in labels.index:\n",
        "    labelL = \"\"\n",
        "    labelR = \"\"\n",
        "    diagnosticL = labels['Left-Diagnostic Keywords'][u_id]\n",
        "    diagnosticR = labels['Right-Diagnostic Keywords'][u_id]\n",
        "    diagnosticL = diagnosticL.split(\"，\") \n",
        "    diagnosticR = diagnosticR.split(\"，\") \n",
        "    #print(diagnosticL)\n",
        "    for d in diagnosticL:\n",
        "      if d in diseases:\n",
        "          if labelL != \"\":\n",
        "            labelL+=\"&\"+diseases[d]\n",
        "          else:\n",
        "            labelL+=diseases[d]\n",
        "      else:\n",
        "          labelL+=\"DELETE\"\n",
        "    for d in diagnosticR:\n",
        "      if d in diseases:\n",
        "        if labelR != \"\":\n",
        "          labelR+=\"&\"+diseases[d]\n",
        "        else:\n",
        "          labelR+=diseases[d]\n",
        "      else:\n",
        "        labelR+=\"DELETE\"\n",
        "\n",
        "    if file_path+\"/\"+str(labels['Left-Fundus'][u_id]) in all_paths:\n",
        "      filename = str(labels['Left-Fundus'][u_id]).split(\".\")\n",
        "      os.rename(file_path+\"/\"+str(labels['Left-Fundus'][u_id]), file_path+\"/\"+filename[0]+\"-\"+labelL+\".jpg\")\n",
        "      paths.append(file_path+\"/\"+str(labels['Left-Fundus'][u_id])+\"/\"+labelL)\n",
        "  \n",
        "    if file_path+\"/\"+str(labels['Right-Fundus'][u_id]) in all_paths:\n",
        "      filename = str(labels['Right-Fundus'][u_id]).split(\".\")\n",
        "      os.rename(file_path+\"/\"+str(labels['Right-Fundus'][u_id]), file_path+\"/\"+filename[0]+\"-\"+labelR+\".jpg\")\n",
        "      paths.append(file_path+\"/\"+str(labels['Right-Fundus'][u_id])+\"/\"+labelR)\n",
        "      \n",
        "update_filenames(training_images_file)"
      ],
      "execution_count": 0,
      "outputs": []
    },
    {
      "cell_type": "code",
      "metadata": {
        "id": "-bdJH7mKoHwu",
        "colab_type": "code",
        "outputId": "7c81902a-afa2-4f0e-95b3-0039d6060d54",
        "colab": {
          "base_uri": "https://localhost:8080/",
          "height": 68
        }
      },
      "source": [
        "def show_class_distribution():\n",
        "  N = 0\n",
        "  D=0\n",
        "  G=0\n",
        "  C=0\n",
        "  A=0\n",
        "  H=0\n",
        "  M=0\n",
        "  O = 0\n",
        "  MIX = 0\n",
        "  DELETE = 0\n",
        "  items_to_remove = []\n",
        "  add_mix_info = []\n",
        "  for element in glob.glob(\"ODIR-5K/Training Images/*.jpg\"):\n",
        "    img_name = element.split(\"/\")[-1]\n",
        "    img_label = img_name.split(\"-\")\n",
        "    if img_label[-1] == \"N.jpg\":\n",
        "      N += 1\n",
        "    elif img_label[-1] == \"D.jpg\":\n",
        "      D +=1\n",
        "    elif img_label[-1] == \"G.jpg\":\n",
        "      G +=1\n",
        "    elif img_label[-1] == \"C.jpg\":\n",
        "      C +=1\n",
        "    elif img_label[-1] == \"A.jpg\":\n",
        "      A +=1\n",
        "    elif img_label[-1] == \"H.jpg\":\n",
        "      H +=1\n",
        "    elif img_label[-1] == \"M.jpg\":\n",
        "      M +=1\n",
        "    elif img_label[-1] == \"O.jpg\":\n",
        "      O +=1\n",
        "    elif \"DELETE\" in img_label[-1]:\n",
        "      DELETE+=1\n",
        "      items_to_remove.append(element)\n",
        "    elif \"&\" in img_label[-1]:\n",
        "      MIX +=1\n",
        "      add_mix_info.append(element)\n",
        "\n",
        "  for e in items_to_remove:\n",
        "    os.remove(e)\n",
        "\n",
        "  for e in add_mix_info:\n",
        "    pom = e.split(\".\")\n",
        "    os.rename(e, pom[0]+\"&X\"+\".jpg\")\n",
        "    \n",
        "  print(N, D, G, C, A, H, M, O, DELETE, MIX)\n",
        "  print(N+D+G+C+A+H+M+O)\n",
        "  return N, D, G, C, A, H, M, O, DELETE, MIX\n",
        "      \n",
        "show_class_distribution()"
      ],
      "execution_count": 8,
      "outputs": [
        {
          "output_type": "stream",
          "text": [
            "2816 1386 218 262 237 104 237 756 436 548\n",
            "6016\n"
          ],
          "name": "stdout"
        },
        {
          "output_type": "execute_result",
          "data": {
            "text/plain": [
              "(2816, 1386, 218, 262, 237, 104, 237, 756, 436, 548)"
            ]
          },
          "metadata": {
            "tags": []
          },
          "execution_count": 8
        }
      ]
    },
    {
      "cell_type": "code",
      "metadata": {
        "id": "ivhmU8WwOA2i",
        "colab_type": "code",
        "colab": {}
      },
      "source": [
        "#move randomly selected 1000 files to Validation Images directory\n",
        "all_paths = []\n",
        "for element in glob.glob(\"ODIR-5K/Training Images/*.jpg\"):\n",
        "  all_paths.append(element)\n",
        "num_to_select = 800                          \n",
        "list_of_random_items = random.sample(all_paths, num_to_select)\n",
        "for element in list_of_random_items:\n",
        "  p = element.split(\"/\")\n",
        "  os.replace(element, \"ODIR-5K/Validation_Images/\"+p[-1])"
      ],
      "execution_count": 0,
      "outputs": []
    },
    {
      "cell_type": "code",
      "metadata": {
        "id": "gqw30b9ebBxl",
        "colab_type": "code",
        "outputId": "e4a217da-3f95-4d59-c639-6b6d4bd952bd",
        "colab": {
          "base_uri": "https://localhost:8080/",
          "height": 187
        }
      },
      "source": [
        "train_N_ds = tf.data.Dataset.list_files(\"ODIR-5K/Training Images/*N.jpg\").repeat()\n",
        "train_D_ds = tf.data.Dataset.list_files(\"ODIR-5K/Training Images/*D.jpg\").repeat()\n",
        "train_G_ds = tf.data.Dataset.list_files(\"ODIR-5K/Training Images/*G.jpg\").repeat()\n",
        "train_C_ds = tf.data.Dataset.list_files(\"ODIR-5K/Training Images/*C.jpg\").repeat()\n",
        "train_A_ds = tf.data.Dataset.list_files(\"ODIR-5K/Training Images/*A.jpg\").repeat()\n",
        "train_H_ds = tf.data.Dataset.list_files(\"ODIR-5K/Training Images/*H.jpg\").repeat()\n",
        "train_M_ds = tf.data.Dataset.list_files(\"ODIR-5K/Training Images/*M.jpg\").repeat()\n",
        "train_O_ds = tf.data.Dataset.list_files(\"ODIR-5K/Training Images/*O.jpg\").repeat()\n",
        "train_MIX_ds = tf.data.Dataset.list_files(\"ODIR-5K/Training Images/*X.jpg\").repeat() #X = MIX\n",
        "test_ds = tf.data.Dataset.list_files(\"ODIR-5K/Validation_Images/*.jpg\")\n",
        "\n",
        "for f in train_MIX_ds.take(5):\n",
        "  print(f.numpy())\n",
        "\n",
        "for f in test_ds.take(5):\n",
        "  print(f.numpy())"
      ],
      "execution_count": 10,
      "outputs": [
        {
          "output_type": "stream",
          "text": [
            "b'ODIR-5K/Training Images/493_right-O&D&X.jpg'\n",
            "b'ODIR-5K/Training Images/1309_right-G&H&X.jpg'\n",
            "b'ODIR-5K/Training Images/435_right-O&D&X.jpg'\n",
            "b'ODIR-5K/Training Images/288_left-D&O&X.jpg'\n",
            "b'ODIR-5K/Training Images/1408_right-G&O&X.jpg'\n",
            "b'ODIR-5K/Validation_Images/613_right-N.jpg'\n",
            "b'ODIR-5K/Validation_Images/1165_left-N.jpg'\n",
            "b'ODIR-5K/Validation_Images/919_left-O.jpg'\n",
            "b'ODIR-5K/Validation_Images/4107_right-D.jpg'\n",
            "b'ODIR-5K/Validation_Images/1153_left-D.jpg'\n"
          ],
          "name": "stdout"
        }
      ]
    },
    {
      "cell_type": "code",
      "metadata": {
        "id": "GBAAZGnSdSMX",
        "colab_type": "code",
        "colab": {}
      },
      "source": [
        "resampled1_ds = tf.data.experimental.sample_from_datasets([train_N_ds, train_D_ds, train_G_ds, train_C_ds, \n",
        "                                                          train_A_ds, train_H_ds, train_M_ds, train_O_ds, train_MIX_ds],\n",
        "                                                         weights=[1/9, 1/9, 1/9, 1/9, 1/9, 1/9, 1/9, 1/9, 1/9])"
      ],
      "execution_count": 0,
      "outputs": []
    },
    {
      "cell_type": "code",
      "metadata": {
        "id": "3QtKeZjQdUfc",
        "colab_type": "code",
        "outputId": "db572cd1-2d24-4170-f11a-75888ab90b0f",
        "colab": {
          "base_uri": "https://localhost:8080/",
          "height": 187
        }
      },
      "source": [
        "for f in resampled1_ds.take(10):\n",
        "  print(f.numpy())"
      ],
      "execution_count": 22,
      "outputs": [
        {
          "output_type": "stream",
          "text": [
            "b'ODIR-5K/Training Images/726_right-C.jpg'\n",
            "b'ODIR-5K/Training Images/355_right-H.jpg'\n",
            "b'ODIR-5K/Training Images/1005_right-N.jpg'\n",
            "b'ODIR-5K/Training Images/300_right-H.jpg'\n",
            "b'ODIR-5K/Training Images/4383_right-D.jpg'\n",
            "b'ODIR-5K/Training Images/2189_left-C.jpg'\n",
            "b'ODIR-5K/Training Images/496_right-O.jpg'\n",
            "b'ODIR-5K/Training Images/994_right-O.jpg'\n",
            "b'ODIR-5K/Training Images/3951_left-D&H&X.jpg'\n",
            "b'ODIR-5K/Training Images/4199_right-H.jpg'\n"
          ],
          "name": "stdout"
        }
      ]
    },
    {
      "cell_type": "code",
      "metadata": {
        "id": "YYAaFraCpYze",
        "colab_type": "code",
        "colab": {}
      },
      "source": [
        "def get_label(name):\n",
        "  parts = tf.strings.split(name, sep=\"-\")\n",
        "  label = tf.strings.split(parts[-1], sep=\".\")\n",
        "  label = tf.strings.bytes_split(label[0])\n",
        "  l = [0, 0, 0, 0, 0, 0, 0, 0]\n",
        "\n",
        "  for e in label:\n",
        "    if e != '&' and e != 'X':\n",
        "      if e == 'N':\n",
        "        l[0] = 1\n",
        "      elif e == 'D':\n",
        "        l[1] = 1\n",
        "      elif e == 'G':\n",
        "        l[2] = 1\n",
        "      elif e == 'C':\n",
        "        l[3] = 1\n",
        "      elif e == 'A':\n",
        "        l[4] = 1\n",
        "      elif e == 'H':\n",
        "        l[5] = 1\n",
        "      elif e == 'M':\n",
        "        l[6] = 1\n",
        "      elif e == 'O':\n",
        "        l[7] = 1\n",
        "\n",
        "  return l\n",
        "\n",
        "def get_name(file_path):\n",
        "  parts = tf.strings.split(file_path, os.path.sep)\n",
        "  return parts[-1]\n",
        "\n",
        "def decode_img(img):\n",
        "  img = tf.image.decode_jpeg(img, channels=3)\n",
        "  img = tf.image.adjust_contrast(img, 3)\n",
        "  img = tf.image.convert_image_dtype(img, tf.float32)\n",
        "  img = tf.image.resize_with_pad(img, IMG_HEIGHT, IMG_WIDTH, method='bilinear', antialias=False)\n",
        "  return img\n",
        "\n",
        "def process_path(file_path):\n",
        "  name = get_name(file_path)\n",
        "  label = get_label(name)\n",
        "  # load the raw data from the file as a string\n",
        "  img = tf.io.read_file(file_path)\n",
        "  img = decode_img(img)\n",
        "  return img, label"
      ],
      "execution_count": 0,
      "outputs": []
    },
    {
      "cell_type": "code",
      "metadata": {
        "id": "HZiKyF8sqEtz",
        "colab_type": "code",
        "colab": {}
      },
      "source": [
        "# Set `num_parallel_calls` so multiple images are loaded/processed in parallel.\n",
        "AUTOTUNE = tf.data.experimental.AUTOTUNE\n",
        "resampled_named_ds = resampled1_ds.map(process_path, num_parallel_calls=AUTOTUNE)\n",
        "test_named_ds = test_ds.map(process_path, num_parallel_calls=AUTOTUNE)"
      ],
      "execution_count": 0,
      "outputs": []
    },
    {
      "cell_type": "code",
      "metadata": {
        "id": "e-4gsxq63qOR",
        "colab_type": "code",
        "outputId": "6ae833aa-bc7c-4f99-f9d7-59326af75100",
        "colab": {
          "base_uri": "https://localhost:8080/",
          "height": 1000
        }
      },
      "source": [
        "for image, label in resampled_named_ds.take(40):\n",
        "  print(image.shape)\n",
        "  plt.imshow(image.numpy())\n",
        "  print('label: ', CLASS_NAMES[np.nonzero(label.numpy()==1)[0][0]], label.numpy())"
      ],
      "execution_count": 25,
      "outputs": [
        {
          "output_type": "stream",
          "text": [
            "(32, 32, 3)\n",
            "label:  C [0 0 0 1 0 0 0 0]\n",
            "(32, 32, 3)\n",
            "label:  H [0 0 0 0 0 1 0 0]\n",
            "(32, 32, 3)\n",
            "label:  N [1 0 0 0 0 0 0 0]\n",
            "(32, 32, 3)\n",
            "label:  H [0 0 0 0 0 1 0 0]\n",
            "(32, 32, 3)\n",
            "label:  D [0 1 0 0 0 0 0 0]\n",
            "(32, 32, 3)\n",
            "label:  C [0 0 0 1 0 0 0 0]\n",
            "(32, 32, 3)\n",
            "label:  O [0 0 0 0 0 0 0 1]\n",
            "(32, 32, 3)\n",
            "label:  O [0 0 0 0 0 0 0 1]\n",
            "(32, 32, 3)\n",
            "label:  D [0 1 0 0 0 0 0 1]\n",
            "(32, 32, 3)\n",
            "label:  H [0 0 0 0 0 1 0 0]\n",
            "(32, 32, 3)\n",
            "label:  M [0 0 0 0 0 0 1 0]\n",
            "(32, 32, 3)\n",
            "label:  D [0 1 0 0 0 0 0 0]\n",
            "(32, 32, 3)\n",
            "label:  C [0 0 0 1 0 0 0 0]\n",
            "(32, 32, 3)\n",
            "label:  H [0 0 0 0 0 1 0 0]\n",
            "(32, 32, 3)\n",
            "label:  D [0 1 0 0 0 0 0 0]\n",
            "(32, 32, 3)\n",
            "label:  C [0 0 0 1 0 0 0 0]\n",
            "(32, 32, 3)\n",
            "label:  G [0 0 1 0 0 0 0 0]\n",
            "(32, 32, 3)\n",
            "label:  H [0 0 0 0 0 1 0 0]\n",
            "(32, 32, 3)\n",
            "label:  N [1 0 0 0 0 0 0 0]\n",
            "(32, 32, 3)\n",
            "label:  D [0 1 0 0 0 0 0 0]\n",
            "(32, 32, 3)\n",
            "label:  G [0 0 1 0 0 0 0 0]\n",
            "(32, 32, 3)\n",
            "label:  N [1 0 0 0 0 0 0 0]\n",
            "(32, 32, 3)\n",
            "label:  G [0 0 1 0 0 0 0 0]\n",
            "(32, 32, 3)\n",
            "label:  H [0 0 0 0 0 1 0 0]\n",
            "(32, 32, 3)\n",
            "label:  N [1 0 0 0 0 0 0 0]\n",
            "(32, 32, 3)\n",
            "label:  C [0 0 0 1 0 0 0 0]\n",
            "(32, 32, 3)\n",
            "label:  O [0 0 0 0 0 0 0 1]\n",
            "(32, 32, 3)\n",
            "label:  N [1 0 0 0 0 0 0 0]\n",
            "(32, 32, 3)\n",
            "label:  O [0 0 0 0 0 0 0 1]\n",
            "(32, 32, 3)\n",
            "label:  A [0 0 0 0 1 0 0 0]\n",
            "(32, 32, 3)\n",
            "label:  H [0 0 0 0 0 1 0 0]\n",
            "(32, 32, 3)\n",
            "label:  G [0 0 1 0 0 0 0 0]\n",
            "(32, 32, 3)\n",
            "label:  M [0 0 0 0 0 0 1 0]\n",
            "(32, 32, 3)\n",
            "label:  G [0 0 1 0 0 0 0 0]\n",
            "(32, 32, 3)\n",
            "label:  O [0 0 0 0 0 0 0 1]\n",
            "(32, 32, 3)\n",
            "label:  H [0 0 0 0 0 1 0 0]\n",
            "(32, 32, 3)\n",
            "label:  N [1 0 0 0 0 0 0 0]\n",
            "(32, 32, 3)\n",
            "label:  O [0 0 0 0 0 0 0 1]\n",
            "(32, 32, 3)\n",
            "label:  H [0 0 0 0 0 1 0 0]\n",
            "(32, 32, 3)\n",
            "label:  N [1 0 0 0 0 0 0 0]\n"
          ],
          "name": "stdout"
        },
        {
          "output_type": "display_data",
          "data": {
            "image/png": "[encoded data removed]",
            "text/plain": [
              "<Figure size 432x288 with 1 Axes>"
            ]
          },
          "metadata": {
            "tags": [],
            "needs_background": "light"
          }
        }
      ]
    },
    {
      "cell_type": "code",
      "metadata": {
        "id": "sDA_aQFBZ_XC",
        "colab_type": "code",
        "outputId": "f7862951-d9bd-4772-8494-836b9c591cbc",
        "colab": {
          "base_uri": "https://localhost:8080/",
          "height": 197
        }
      },
      "source": [
        "pom = []\n",
        "for image, labels in resampled_named_ds.take(9000):\n",
        "  pom.append(labels.numpy())\n",
        "uni = np.unique(pom)\n",
        "for element in uni:\n",
        "  print(str(element)+\" : \"+str(pom.count(element)))"
      ],
      "execution_count": 80,
      "outputs": [
        {
          "output_type": "error",
          "ename": "ValueError",
          "evalue": "ignored",
          "traceback": [
            "\u001b[0;31m---------------------------------------------------------------------------\u001b[0m",
            "\u001b[0;31mValueError\u001b[0m                                Traceback (most recent call last)",
            "\u001b[0;32m<ipython-input-80-e2a4a66fc850>\u001b[0m in \u001b[0;36m<module>\u001b[0;34m()\u001b[0m\n\u001b[1;32m      4\u001b[0m \u001b[0muni\u001b[0m \u001b[0;34m=\u001b[0m \u001b[0mnp\u001b[0m\u001b[0;34m.\u001b[0m\u001b[0munique\u001b[0m\u001b[0;34m(\u001b[0m\u001b[0mpom\u001b[0m\u001b[0;34m)\u001b[0m\u001b[0;34m\u001b[0m\u001b[0;34m\u001b[0m\u001b[0m\n\u001b[1;32m      5\u001b[0m \u001b[0;32mfor\u001b[0m \u001b[0melement\u001b[0m \u001b[0;32min\u001b[0m \u001b[0muni\u001b[0m\u001b[0;34m:\u001b[0m\u001b[0;34m\u001b[0m\u001b[0;34m\u001b[0m\u001b[0m\n\u001b[0;32m----> 6\u001b[0;31m   \u001b[0mprint\u001b[0m\u001b[0;34m(\u001b[0m\u001b[0mstr\u001b[0m\u001b[0;34m(\u001b[0m\u001b[0melement\u001b[0m\u001b[0;34m)\u001b[0m\u001b[0;34m+\u001b[0m\u001b[0;34m\" : \"\u001b[0m\u001b[0;34m+\u001b[0m\u001b[0mstr\u001b[0m\u001b[0;34m(\u001b[0m\u001b[0mpom\u001b[0m\u001b[0;34m.\u001b[0m\u001b[0mcount\u001b[0m\u001b[0;34m(\u001b[0m\u001b[0melement\u001b[0m\u001b[0;34m)\u001b[0m\u001b[0;34m)\u001b[0m\u001b[0;34m)\u001b[0m\u001b[0;34m\u001b[0m\u001b[0;34m\u001b[0m\u001b[0m\n\u001b[0m",
            "\u001b[0;31mValueError\u001b[0m: The truth value of an array with more than one element is ambiguous. Use a.any() or a.all()"
          ]
        }
      ]
    },
    {
      "cell_type": "code",
      "metadata": {
        "id": "jaZjb4xQ4EAD",
        "colab_type": "code",
        "colab": {}
      },
      "source": [
        "def randomly_augment(image,label):\n",
        "  image = tf.image.random_flip_left_right(image)\n",
        "  #image = tf.image.central_crop(image, central_fraction=0.9)\n",
        "  #image = tf.image.resize_with_pad(image, IMG_HEIGHT, IMG_WIDTH, method='bilinear', antialias=False)\n",
        "  return image, label\n",
        "\n",
        "def prepare_for_training(ds, cache=True, shuffle_buffer_size=1000):\n",
        "  # This is a small dataset, only load it once, and keep it in memory.\n",
        "  # use `.cache(filename)` to cache preprocessing work for datasets that don't\n",
        "  # fit in memory.\n",
        "  ds = ds.cache()\n",
        "  ds = ds.shuffle(buffer_size=shuffle_buffer_size, reshuffle_each_iteration=False)\n",
        "  ds = ds.map(randomly_augment, num_parallel_calls=AUTOTUNE)\n",
        "  ds = ds.repeat()\n",
        "  ds = ds.batch(BATCH_SIZE, drop_remainder=True)\n",
        "  ds = ds.prefetch(buffer_size=AUTOTUNE)\n",
        "  return ds\n",
        "\n",
        "def prepare_for_testing(ds, cache=True, shuffle_buffer_size=1000):\n",
        "  # This is a small dataset, only load it once, and keep it in memory.\n",
        "  # use `.cache(filename)` to cache preprocessing work for datasets that don't\n",
        "  # fit in memory.\n",
        "  ds = ds.cache()\n",
        "  ds = ds.batch(800, drop_remainder=True) #all elemetnts for training should be batched in one!\n",
        "  ds = ds.repeat()\n",
        "\n",
        "  return ds"
      ],
      "execution_count": 0,
      "outputs": []
    },
    {
      "cell_type": "code",
      "metadata": {
        "id": "Rkijo_N6et2J",
        "colab_type": "code",
        "colab": {}
      },
      "source": [
        "final_train_ds = prepare_for_training(resampled_named_ds,cache=True,shuffle_buffer_size=6000)\n",
        "final_test_ds = prepare_for_testing(test_named_ds,cache=True,shuffle_buffer_size=100)"
      ],
      "execution_count": 0,
      "outputs": []
    },
    {
      "cell_type": "code",
      "metadata": {
        "id": "-XsMIrYYUcJX",
        "colab_type": "code",
        "outputId": "39d2be90-e289-4025-8da7-3ab4434361a0",
        "colab": {
          "base_uri": "https://localhost:8080/",
          "height": 283
        }
      },
      "source": [
        "for example in final_train_ds.take(1):\n",
        "  image, label = example\n",
        "  break\n",
        "im, lab = image[14], label[14]\n",
        "plt.imshow(im)\n",
        "print(lab.numpy())"
      ],
      "execution_count": 28,
      "outputs": [
        {
          "output_type": "stream",
          "text": [
            "[0 1 0 0 0 0 0 0]\n"
          ],
          "name": "stdout"
        },
        {
          "output_type": "display_data",
          "data": {
            "image/png": "[encoded data removed]",
            "text/plain": [
              "<Figure size 432x288 with 1 Axes>"
            ]
          },
          "metadata": {
            "tags": [],
            "needs_background": "light"
          }
        }
      ]
    },
    {
      "cell_type": "code",
      "metadata": {
        "id": "lhd9B2JG804C",
        "colab_type": "code",
        "outputId": "6ef4b467-157e-46e9-b94a-9a16c537c1b5",
        "colab": {
          "base_uri": "https://localhost:8080/",
          "height": 765
        }
      },
      "source": [
        "model_cnn = tf.keras.Sequential([\n",
        "    \n",
        "    # 1st VGG block\n",
        "    tf.keras.layers.Conv2D(32, (3, 3), padding = \"same\", input_shape=(IMG_HEIGHT, IMG_WIDTH ,3)),\n",
        "    tf.keras.layers.BatchNormalization(center=True, scale=False),\n",
        "    tf.keras.layers.Activation(\"relu\"),\n",
        "\n",
        "    tf.keras.layers.Conv2D(32, (3, 3), padding = \"same\"),\n",
        "    tf.keras.layers.BatchNormalization(center=True, scale=False),\n",
        "    tf.keras.layers.Activation(\"relu\"),\n",
        "\n",
        "    tf.keras.layers.MaxPooling2D(pool_size = (2, 2)),\n",
        "    tf.keras.layers.Dropout(0.5),\n",
        "\n",
        "    #2nd VGG block\n",
        "    tf.keras.layers.Conv2D(128, (3, 3), padding = \"same\"),\n",
        "    tf.keras.layers.BatchNormalization(center=True, scale=False),\n",
        "    tf.keras.layers.Activation(\"relu\"),\n",
        "\n",
        "    tf.keras.layers.Conv2D(128, (3, 3), padding = \"same\"),\n",
        "    tf.keras.layers.BatchNormalization(center=True, scale=False),\n",
        "    tf.keras.layers.Activation(\"relu\"),\n",
        "\n",
        "    tf.keras.layers.MaxPooling2D(pool_size = (2, 2)),\n",
        "    tf.keras.layers.Dropout(0.5),\n",
        "\n",
        "    tf.keras.layers.Flatten(),\n",
        "\n",
        "    tf.keras.layers.Dense(8, activation = 'sigmoid')\n",
        "])\n",
        "\n",
        "model_cnn.compile(optimizer=tf.keras.optimizers.Adam(lr=0.01),\n",
        "              loss='binary_crossentropy',\n",
        "              metrics=['accuracy'])\n",
        "\n",
        "model_cnn.summary()"
      ],
      "execution_count": 31,
      "outputs": [
        {
          "output_type": "stream",
          "text": [
            "Model: \"sequential_2\"\n",
            "_________________________________________________________________\n",
            "Layer (type)                 Output Shape              Param #   \n",
            "=================================================================\n",
            "conv2d_8 (Conv2D)            (None, 32, 32, 32)        896       \n",
            "_________________________________________________________________\n",
            "batch_normalization_8 (Batch (None, 32, 32, 32)        96        \n",
            "_________________________________________________________________\n",
            "activation_8 (Activation)    (None, 32, 32, 32)        0         \n",
            "_________________________________________________________________\n",
            "conv2d_9 (Conv2D)            (None, 32, 32, 32)        9248      \n",
            "_________________________________________________________________\n",
            "batch_normalization_9 (Batch (None, 32, 32, 32)        96        \n",
            "_________________________________________________________________\n",
            "activation_9 (Activation)    (None, 32, 32, 32)        0         \n",
            "_________________________________________________________________\n",
            "max_pooling2d_4 (MaxPooling2 (None, 16, 16, 32)        0         \n",
            "_________________________________________________________________\n",
            "dropout_4 (Dropout)          (None, 16, 16, 32)        0         \n",
            "_________________________________________________________________\n",
            "conv2d_10 (Conv2D)           (None, 16, 16, 128)       36992     \n",
            "_________________________________________________________________\n",
            "batch_normalization_10 (Batc (None, 16, 16, 128)       384       \n",
            "_________________________________________________________________\n",
            "activation_10 (Activation)   (None, 16, 16, 128)       0         \n",
            "_________________________________________________________________\n",
            "conv2d_11 (Conv2D)           (None, 16, 16, 128)       147584    \n",
            "_________________________________________________________________\n",
            "batch_normalization_11 (Batc (None, 16, 16, 128)       384       \n",
            "_________________________________________________________________\n",
            "activation_11 (Activation)   (None, 16, 16, 128)       0         \n",
            "_________________________________________________________________\n",
            "max_pooling2d_5 (MaxPooling2 (None, 8, 8, 128)         0         \n",
            "_________________________________________________________________\n",
            "dropout_5 (Dropout)          (None, 8, 8, 128)         0         \n",
            "_________________________________________________________________\n",
            "flatten_2 (Flatten)          (None, 8192)              0         \n",
            "_________________________________________________________________\n",
            "dense_2 (Dense)              (None, 8)                 65544     \n",
            "=================================================================\n",
            "Total params: 261,224\n",
            "Trainable params: 260,584\n",
            "Non-trainable params: 640\n",
            "_________________________________________________________________\n"
          ],
          "name": "stdout"
        }
      ]
    },
    {
      "cell_type": "code",
      "metadata": {
        "id": "GXXKlE-6T0w7",
        "colab_type": "code",
        "outputId": "c18bde7f-cbd4-4ab4-d1e7-edee1e244b52",
        "colab": {
          "base_uri": "https://localhost:8080/",
          "height": 442
        }
      },
      "source": [
        "history_cnn = model_cnn.fit(final_train_ds.repeat(),\n",
        "                    #batch_size=32,\n",
        "                    epochs=100,\n",
        "                    steps_per_epoch = 163, #train_elements/batch_size\n",
        "                    validation_data=final_test_ds.repeat(),\n",
        "                    validation_steps = 1,\n",
        "                    use_multiprocessing=True,\n",
        "                    #class_weight=class_weight\n",
        "                    )"
      ],
      "execution_count": 0,
      "outputs": [
        {
          "output_type": "stream",
          "text": [
            "163/163 [==============================] - 7s 46ms/step - loss: 0.2301 - accuracy: 0.6053 - val_loss: 0.3882 - val_accuracy: 0.2650\n",
            "Epoch 82/100\n",
            "163/163 [==============================] - 8s 46ms/step - loss: 0.2335 - accuracy: 0.6041 - val_loss: 0.3700 - val_accuracy: 0.2600\n",
            "Epoch 83/100\n",
            "163/163 [==============================] - 8s 48ms/step - loss: 0.2325 - accuracy: 0.6033 - val_loss: 0.3963 - val_accuracy: 0.2875\n",
            "Epoch 84/100\n",
            "163/163 [==============================] - 7s 45ms/step - loss: 0.2308 - accuracy: 0.6014 - val_loss: 0.3850 - val_accuracy: 0.2512\n",
            "Epoch 85/100\n",
            "163/163 [==============================] - 7s 45ms/step - loss: 0.2334 - accuracy: 0.6066 - val_loss: 0.3788 - val_accuracy: 0.2887\n",
            "Epoch 86/100\n",
            "163/163 [==============================] - 7s 45ms/step - loss: 0.2306 - accuracy: 0.6030 - val_loss: 0.3789 - val_accuracy: 0.3075\n",
            "Epoch 87/100\n",
            "163/163 [==============================] - 7s 45ms/step - loss: 0.2346 - accuracy: 0.5922 - val_loss: 0.3829 - val_accuracy: 0.2637\n",
            "Epoch 88/100\n",
            "163/163 [==============================] - 8s 47ms/step - loss: 0.2308 - accuracy: 0.6104 - val_loss: 0.3909 - val_accuracy: 0.2788\n",
            "Epoch 89/100\n",
            "163/163 [==============================] - 8s 48ms/step - loss: 0.2330 - accuracy: 0.5984 - val_loss: 0.3735 - val_accuracy: 0.3175\n",
            "Epoch 90/100\n",
            "163/163 [==============================] - 8s 47ms/step - loss: 0.2297 - accuracy: 0.6060 - val_loss: 0.3926 - val_accuracy: 0.2887\n",
            "Epoch 91/100\n",
            "163/163 [==============================] - 8s 48ms/step - loss: 0.2287 - accuracy: 0.6033 - val_loss: 0.3748 - val_accuracy: 0.2663\n",
            "Epoch 92/100\n",
            "163/163 [==============================] - 7s 44ms/step - loss: 0.2277 - accuracy: 0.6175 - val_loss: 0.3807 - val_accuracy: 0.2663\n",
            "Epoch 93/100\n",
            " 53/163 [========>.....................] - ETA: 2s - loss: 0.2257 - accuracy: 0.6179"
          ],
          "name": "stdout"
        }
      ]
    },
    {
      "cell_type": "code",
      "metadata": {
        "id": "JeLrAZeYGXQT",
        "colab_type": "code",
        "colab": {}
      },
      "source": [
        "!rm -rf ODIR-5K/Validation_Images"
      ],
      "execution_count": 0,
      "outputs": []
    }
  ]
}