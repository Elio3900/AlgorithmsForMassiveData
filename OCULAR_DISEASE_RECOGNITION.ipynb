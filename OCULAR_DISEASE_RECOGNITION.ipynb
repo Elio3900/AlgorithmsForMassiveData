{
  "nbformat": 4,
  "nbformat_minor": 0,
  "metadata": {
    "colab": {
      "name": "OCULAR_DISEASE_RECOGNITION.ipynb",
      "provenance": [],
      "collapsed_sections": [],
      "authorship_tag": "ABX9TyPVrI328q8WHp2fg0vPsQF3",
      "include_colab_link": true
    },
    "kernelspec": {
      "name": "python3",
      "display_name": "Python 3"
    },
    "accelerator": "GPU"
  },
  "cells": [
    {
      "cell_type": "markdown",
      "metadata": {
        "id": "view-in-github",
        "colab_type": "text"
      },
      "source": [
        "<a href=\"https://colab.research.google.com/github/GrzegorzMeller/AlgorithmsForMassiveData/blob/master/OCULAR_DISEASE_RECOGNITION.ipynb\" target=\"_parent\"><img src=\"https://colab.research.google.com/assets/colab-badge.svg\" alt=\"Open In Colab\"/></a>"
      ]
    },
    {
      "cell_type": "code",
      "metadata": {
        "id": "ANrjiG86D2-R",
        "colab_type": "code",
        "colab": {}
      },
      "source": [
        "!cp kaggle.json ~/.kaggle/\n",
        "!kaggle datasets download -d andrewmvd/ocular-disease-recognition-odir5k\n",
        "!unzip ocular-disease-recognition-odir5k.zip\n",
        "!mkdir ODIR-5K/Validation_Images"
      ],
      "execution_count": 0,
      "outputs": []
    },
    {
      "cell_type": "code",
      "metadata": {
        "id": "IS8mAxcQZR4e",
        "colab_type": "code",
        "outputId": "fee8289a-0861-4db5-b4cd-336f3dab818d",
        "colab": {
          "base_uri": "https://localhost:8080/",
          "height": 71
        }
      },
      "source": [
        "import tensorflow as tf\n",
        "import pandas as pd\n",
        "import os\n",
        "from PIL import Image\n",
        "import matplotlib.pyplot as plt\n",
        "import IPython.display as display\n",
        "import numpy as np\n",
        "import glob\n",
        "import random\n",
        "\n",
        "BATCH_SIZE = 32\n",
        "IMG_HEIGHT = 32\n",
        "IMG_WIDTH = 32\n",
        "CLASS_NAMES = ['N', 'D', 'G', 'C', 'A', 'H', 'M', 'O']\n",
        "\n",
        "training_images_file = 'ODIR-5K/Training Images'\n",
        "testing_images_file = 'ODIR-5K/Testing Images'\n",
        "labels_file = 'ODIR-5K/data.xlsx'\n",
        "\n",
        "diseases = {'abnormal pigment ': 'O', 'age-related macular degeneration': 'A', 'anterior segment image': 'DELETE', 'arteriosclerosis': 'NaN', 'asteroid hyalosis': 'O', 'atrophic change': 'O', 'atrophy': 'O', 'branch retinal artery occlusion': 'O', 'branch retinal vein occlusion': 'O', 'cataract': 'C', 'central retinal artery occlusion': 'O', 'central retinal vein occlusion': 'O', 'central serous chorioretinopathy': 'O', 'chorioretinal atrophy': 'O', 'chorioretinal atrophy with pigmentation proliferation': 'O', 'choroidal nevus': 'NaN', 'congenital choroidal coloboma': 'O', 'depigmentation of the retinal pigment epithelium': 'O', 'diabetic retinopathy': 'D', 'diffuse chorioretinal atrophy': 'O', 'diffuse retinal atrophy': 'O', 'drusen': 'O', 'dry age-related macular degeneration': 'A', 'epiretinal membrane': 'O', 'epiretinal membrane over the macula': 'O', 'fundus laser photocoagulation spots': 'O', 'glaucoma': 'G', 'glial remnants anterior to the optic disc': 'O', 'hypertensive retinopathy': 'H', 'hypertensive retinopathy,diabetic retinopathy': 'D', 'idiopathic choroidal neovascularization': 'O', 'image offset': 'DELETE', 'intraretinal hemorrhage': 'O', 'intraretinal microvascular abnormality': 'O', 'laser spot': 'O', 'lens dust': 'DELETE', 'low image quality': 'DELETE', 'low image quality,maculopathy': 'DELETE', 'macular coloboma': 'O', 'macular epiretinal membrane': 'O', 'macular hole': 'O', 'macular pigmentation disorder': 'NaN', 'maculopathy': 'O', 'mild nonproliferative retinopathy': 'D', 'moderate non proliferative retinopathy': 'D', 'morning glory syndrome': 'O', 'myelinated nerve fibers': 'O', 'myopia retinopathy': 'M', 'myopic maculopathy': 'M', 'myopic retinopathy': 'M', 'no fundus image': 'DELETE', 'normal fundus': 'N', 'old branch retinal vein occlusion': 'O', 'old central retinal vein occlusion': 'O', 'old chorioretinopathy': 'O', 'old choroiditis': 'NaN', 'optic disc edema': 'O', 'optic discitis': 'O', 'optic disk epiretinal membrane': 'O', 'optic disk photographically invisible': 'DELETE', 'optic nerve atrophy': 'O', 'oval yellow-white atrophy': 'O', 'pathological myopia': 'M', 'peripapillary atrophy': 'O', 'pigment epithelium proliferation': 'O', 'pigmentation disorder': 'O', 'post laser photocoagulation': 'O', 'post retinal laser surgery': 'O', 'proliferative diabetic retinopathy': 'D', 'punctate inner choroidopathy': 'O', 'refractive media opacity': 'O', 'retina fold': 'O', 'retinal artery macroaneurysm': 'O', 'retinal detachment': 'O', 'retinal pigment epithelial hypertrophy': 'O', 'retinal pigment epithelium atrophy': 'O', 'retinal pigmentation': 'O', 'retinal vascular sheathing': 'O', 'retinitis pigmentosa': 'O', 'retinochoroidal coloboma': 'O', 'rhegmatogenous retinal detachment': 'O', 'severe nonproliferative retinopathy': 'D', 'severe proliferative diabetic retinopathy': 'D', 'silicone oil eye': 'O', 'spotted membranous change': 'O', 'suspected abnormal color of  optic disc': 'O', 'suspected cataract': 'C', 'suspected diabetic retinopathy': 'D', 'suspected glaucoma': 'G', 'suspected macular epimacular membrane': 'O', 'suspected microvascular anomalies': 'O', 'suspected moderate non proliferative retinopathy': 'D', 'suspected retinal vascular sheathing': 'O', 'suspected retinitis pigmentosa': 'O', 'suspicious diabetic retinopathy': 'D', 'tessellated fundus': 'O', 'vascular loops': 'O', 'vessel tortuosity': 'O', 'vitreous degeneration': 'O', 'vitreous opacity': 'O', 'wedge white line change': 'O', 'wedge-shaped change': 'O', 'wet age-related macular degeneration': 'A', 'white vessel': 'O'}\n",
        "\n",
        "#load labels to pandas\n",
        "labels = pd.read_excel(labels_file, index_col=0) \n",
        "print(labels['Left-Diagnostic Keywords'][0])\n",
        "print(diseases)"
      ],
      "execution_count": 58,
      "outputs": [
        {
          "output_type": "stream",
          "text": [
            "cataract\n",
            "{'abnormal pigment ': 'O', 'age-related macular degeneration': 'A', 'anterior segment image': 'DELETE', 'arteriosclerosis': 'NaN', 'asteroid hyalosis': 'O', 'atrophic change': 'O', 'atrophy': 'O', 'branch retinal artery occlusion': 'O', 'branch retinal vein occlusion': 'O', 'cataract': 'C', 'central retinal artery occlusion': 'O', 'central retinal vein occlusion': 'O', 'central serous chorioretinopathy': 'O', 'chorioretinal atrophy': 'O', 'chorioretinal atrophy with pigmentation proliferation': 'O', 'choroidal nevus': 'NaN', 'congenital choroidal coloboma': 'O', 'depigmentation of the retinal pigment epithelium': 'O', 'diabetic retinopathy': 'D', 'diffuse chorioretinal atrophy': 'O', 'diffuse retinal atrophy': 'O', 'drusen': 'O', 'dry age-related macular degeneration': 'A', 'epiretinal membrane': 'O', 'epiretinal membrane over the macula': 'O', 'fundus laser photocoagulation spots': 'O', 'glaucoma': 'G', 'glial remnants anterior to the optic disc': 'O', 'hypertensive retinopathy': 'H', 'hypertensive retinopathy,diabetic retinopathy': 'D', 'idiopathic choroidal neovascularization': 'O', 'image offset': 'DELETE', 'intraretinal hemorrhage': 'O', 'intraretinal microvascular abnormality': 'O', 'laser spot': 'O', 'lens dust': 'DELETE', 'low image quality': 'DELETE', 'low image quality,maculopathy': 'DELETE', 'macular coloboma': 'O', 'macular epiretinal membrane': 'O', 'macular hole': 'O', 'macular pigmentation disorder': 'NaN', 'maculopathy': 'O', 'mild nonproliferative retinopathy': 'D', 'moderate non proliferative retinopathy': 'D', 'morning glory syndrome': 'O', 'myelinated nerve fibers': 'O', 'myopia retinopathy': 'M', 'myopic maculopathy': 'M', 'myopic retinopathy': 'M', 'no fundus image': 'DELETE', 'normal fundus': 'N', 'old branch retinal vein occlusion': 'O', 'old central retinal vein occlusion': 'O', 'old chorioretinopathy': 'O', 'old choroiditis': 'NaN', 'optic disc edema': 'O', 'optic discitis': 'O', 'optic disk epiretinal membrane': 'O', 'optic disk photographically invisible': 'DELETE', 'optic nerve atrophy': 'O', 'oval yellow-white atrophy': 'O', 'pathological myopia': 'M', 'peripapillary atrophy': 'O', 'pigment epithelium proliferation': 'O', 'pigmentation disorder': 'O', 'post laser photocoagulation': 'O', 'post retinal laser surgery': 'O', 'proliferative diabetic retinopathy': 'D', 'punctate inner choroidopathy': 'O', 'refractive media opacity': 'O', 'retina fold': 'O', 'retinal artery macroaneurysm': 'O', 'retinal detachment': 'O', 'retinal pigment epithelial hypertrophy': 'O', 'retinal pigment epithelium atrophy': 'O', 'retinal pigmentation': 'O', 'retinal vascular sheathing': 'O', 'retinitis pigmentosa': 'O', 'retinochoroidal coloboma': 'O', 'rhegmatogenous retinal detachment': 'O', 'severe nonproliferative retinopathy': 'D', 'severe proliferative diabetic retinopathy': 'D', 'silicone oil eye': 'O', 'spotted membranous change': 'O', 'suspected abnormal color of  optic disc': 'O', 'suspected cataract': 'C', 'suspected diabetic retinopathy': 'D', 'suspected glaucoma': 'G', 'suspected macular epimacular membrane': 'O', 'suspected microvascular anomalies': 'O', 'suspected moderate non proliferative retinopathy': 'D', 'suspected retinal vascular sheathing': 'O', 'suspected retinitis pigmentosa': 'O', 'suspicious diabetic retinopathy': 'D', 'tessellated fundus': 'O', 'vascular loops': 'O', 'vessel tortuosity': 'O', 'vitreous degeneration': 'O', 'vitreous opacity': 'O', 'wedge white line change': 'O', 'wedge-shaped change': 'O', 'wet age-related macular degeneration': 'A', 'white vessel': 'O'}\n"
          ],
          "name": "stdout"
        }
      ]
    },
    {
      "cell_type": "code",
      "metadata": {
        "id": "UNoYEbeJYYAW",
        "colab_type": "code",
        "colab": {}
      },
      "source": [
        "def update_filenames(file_path):\n",
        "  all_paths = []\n",
        "  for element in glob.glob(file_path+\"/*.jpg\"):\n",
        "    all_paths.append(element)\n",
        "  paths = []\n",
        "\n",
        "  for u_id in labels.index:\n",
        "    labelL = \"\"\n",
        "    labelR = \"\"\n",
        "    diagnosticL = labels['Left-Diagnostic Keywords'][u_id]\n",
        "    diagnosticR = labels['Right-Diagnostic Keywords'][u_id]\n",
        "    diagnosticL = diagnosticL.split(\"，\") \n",
        "    diagnosticR = diagnosticR.split(\"，\") \n",
        "    #print(diagnosticL)\n",
        "    for d in diagnosticL:\n",
        "      if d in diseases:\n",
        "          if labelL != \"\":\n",
        "            labelL+=\"&\"+diseases[d]\n",
        "          else:\n",
        "            labelL+=diseases[d]\n",
        "      else:\n",
        "          labelL+=\"DELETE\"\n",
        "    for d in diagnosticR:\n",
        "      if d in diseases:\n",
        "        if labelR != \"\":\n",
        "          labelR+=\"&\"+diseases[d]\n",
        "        else:\n",
        "          labelR+=diseases[d]\n",
        "      else:\n",
        "        labelR+=\"DELETE\"\n",
        "\n",
        "    if file_path+\"/\"+str(labels['Left-Fundus'][u_id]) in all_paths:\n",
        "      filename = str(labels['Left-Fundus'][u_id]).split(\".\")\n",
        "      os.rename(file_path+\"/\"+str(labels['Left-Fundus'][u_id]), file_path+\"/\"+filename[0]+\"-\"+labelL+\".jpg\")\n",
        "      paths.append(file_path+\"/\"+str(labels['Left-Fundus'][u_id])+\"/\"+labelL)\n",
        "  \n",
        "    if file_path+\"/\"+str(labels['Right-Fundus'][u_id]) in all_paths:\n",
        "      filename = str(labels['Right-Fundus'][u_id]).split(\".\")\n",
        "      os.rename(file_path+\"/\"+str(labels['Right-Fundus'][u_id]), file_path+\"/\"+filename[0]+\"-\"+labelR+\".jpg\")\n",
        "      paths.append(file_path+\"/\"+str(labels['Right-Fundus'][u_id])+\"/\"+labelR)\n",
        "      \n",
        "update_filenames(training_images_file)"
      ],
      "execution_count": 0,
      "outputs": []
    },
    {
      "cell_type": "code",
      "metadata": {
        "id": "-bdJH7mKoHwu",
        "colab_type": "code",
        "outputId": "a5ba76b2-b534-496c-ccf5-378d509eb63e",
        "colab": {
          "base_uri": "https://localhost:8080/",
          "height": 68
        }
      },
      "source": [
        "def show_class_distribution():\n",
        "  N = 0\n",
        "  D=0\n",
        "  G=0\n",
        "  C=0\n",
        "  A=0\n",
        "  H=0\n",
        "  M=0\n",
        "  O = 0\n",
        "  MIX = 0\n",
        "  DELETE = 0\n",
        "  items_to_remove = []\n",
        "  for element in glob.glob(\"ODIR-5K/Training Images/*.jpg\"):\n",
        "    img_name = element.split(\"/\")[-1]\n",
        "    img_label = img_name.split(\"-\")\n",
        "    if img_label[-1] == \"N.jpg\":\n",
        "      N += 1\n",
        "    elif img_label[-1] == \"D.jpg\":\n",
        "      D +=1\n",
        "    elif img_label[-1] == \"G.jpg\":\n",
        "      G +=1\n",
        "    elif img_label[-1] == \"C.jpg\":\n",
        "      C +=1\n",
        "    elif img_label[-1] == \"A.jpg\":\n",
        "      A +=1\n",
        "    elif img_label[-1] == \"H.jpg\":\n",
        "      H +=1\n",
        "    elif img_label[-1] == \"M.jpg\":\n",
        "      M +=1\n",
        "    elif img_label[-1] == \"O.jpg\":\n",
        "      O +=1\n",
        "    elif \"DELETE\" in img_label[-1]:\n",
        "      DELETE+=1\n",
        "      items_to_remove.append(element)\n",
        "    elif \"&\" in img_label[-1]:\n",
        "      MIX +=1\n",
        "      items_to_remove.append(element)\n",
        "\n",
        "  for e in items_to_remove:\n",
        "    os.remove(e)\n",
        "    \n",
        "  print(N, D, G, C, A, H, M, O, DELETE, MIX)\n",
        "  print(N+D+G+C+A+H+M+O)\n",
        "  return N, D, G, C, A, H, M, O, DELETE, MIX\n",
        "      \n",
        "show_class_distribution()"
      ],
      "execution_count": 12,
      "outputs": [
        {
          "output_type": "stream",
          "text": [
            "2816 1386 218 262 237 104 237 756 436 548\n",
            "6016\n"
          ],
          "name": "stdout"
        },
        {
          "output_type": "execute_result",
          "data": {
            "text/plain": [
              "(2816, 1386, 218, 262, 237, 104, 237, 756, 436, 548)"
            ]
          },
          "metadata": {
            "tags": []
          },
          "execution_count": 12
        }
      ]
    },
    {
      "cell_type": "code",
      "metadata": {
        "id": "ivhmU8WwOA2i",
        "colab_type": "code",
        "outputId": "6befe02f-b1d6-4b3d-f501-67fb23e9c468",
        "colab": {
          "base_uri": "https://localhost:8080/",
          "height": 68
        }
      },
      "source": [
        "#move randomly selected 1000 files to Validation Images directory\n",
        "all_paths = []\n",
        "for element in glob.glob(\"ODIR-5K/Training Images/*.jpg\"):\n",
        "  all_paths.append(element)\n",
        "num_to_select = 800                          \n",
        "list_of_random_items = random.sample(all_paths, num_to_select)\n",
        "for element in list_of_random_items:\n",
        "  p = element.split(\"/\")\n",
        "  os.replace(element, \"ODIR-5K/Validation_Images/\"+p[-1])\n",
        "\n",
        "show_class_distribution()"
      ],
      "execution_count": 13,
      "outputs": [
        {
          "output_type": "stream",
          "text": [
            "2442 1210 185 236 202 92 206 643 0 0\n",
            "5216\n"
          ],
          "name": "stdout"
        },
        {
          "output_type": "execute_result",
          "data": {
            "text/plain": [
              "(2442, 1210, 185, 236, 202, 92, 206, 643, 0, 0)"
            ]
          },
          "metadata": {
            "tags": []
          },
          "execution_count": 13
        }
      ]
    },
    {
      "cell_type": "code",
      "metadata": {
        "id": "gqw30b9ebBxl",
        "colab_type": "code",
        "colab": {
          "base_uri": "https://localhost:8080/",
          "height": 187
        },
        "outputId": "8e7bddd5-18fe-49d0-f880-2b5990f1b0a4"
      },
      "source": [
        "train_N_ds = tf.data.Dataset.list_files(\"ODIR-5K/Training Images/*N.jpg\").repeat()\n",
        "train_D_ds = tf.data.Dataset.list_files(\"ODIR-5K/Training Images/*D.jpg\").repeat()\n",
        "train_G_ds = tf.data.Dataset.list_files(\"ODIR-5K/Training Images/*G.jpg\").repeat()\n",
        "train_C_ds = tf.data.Dataset.list_files(\"ODIR-5K/Training Images/*C.jpg\").repeat()\n",
        "train_A_ds = tf.data.Dataset.list_files(\"ODIR-5K/Training Images/*A.jpg\").repeat()\n",
        "train_H_ds = tf.data.Dataset.list_files(\"ODIR-5K/Training Images/*H.jpg\").repeat()\n",
        "train_M_ds = tf.data.Dataset.list_files(\"ODIR-5K/Training Images/*M.jpg\").repeat()\n",
        "train_O_ds = tf.data.Dataset.list_files(\"ODIR-5K/Training Images/*O.jpg\").repeat()\n",
        "test_ds = tf.data.Dataset.list_files(\"ODIR-5K/Validation_Images/*.jpg\")\n",
        "\n",
        "for f in train_G_ds.take(5):\n",
        "  print(f.numpy())\n",
        "\n",
        "for f in test_ds.take(5):\n",
        "  print(f.numpy())"
      ],
      "execution_count": 59,
      "outputs": [
        {
          "output_type": "stream",
          "text": [
            "b'ODIR-5K/Training Images/1260_left-G.jpg'\n",
            "b'ODIR-5K/Training Images/1226_left-G.jpg'\n",
            "b'ODIR-5K/Training Images/1256_left-G.jpg'\n",
            "b'ODIR-5K/Training Images/1306_left-G.jpg'\n",
            "b'ODIR-5K/Training Images/1270_left-G.jpg'\n",
            "b'ODIR-5K/Validation_Images/1660_right-M.jpg'\n",
            "b'ODIR-5K/Validation_Images/4430_left-D.jpg'\n",
            "b'ODIR-5K/Validation_Images/841_left-O.jpg'\n",
            "b'ODIR-5K/Validation_Images/401_left-M.jpg'\n",
            "b'ODIR-5K/Validation_Images/2761_left-N.jpg'\n"
          ],
          "name": "stdout"
        }
      ]
    },
    {
      "cell_type": "code",
      "metadata": {
        "id": "GBAAZGnSdSMX",
        "colab_type": "code",
        "colab": {}
      },
      "source": [
        "resampled1_ds = tf.data.experimental.sample_from_datasets([train_N_ds, train_D_ds, train_G_ds, train_C_ds, \n",
        "                                                          train_A_ds, train_H_ds, train_M_ds, train_O_ds],\n",
        "                                                         weights=[0.125, 0.125, 0.125, 0.125, 0.125, 0.125, 0.125, 0.125])"
      ],
      "execution_count": 0,
      "outputs": []
    },
    {
      "cell_type": "code",
      "metadata": {
        "id": "3QtKeZjQdUfc",
        "colab_type": "code",
        "colab": {
          "base_uri": "https://localhost:8080/",
          "height": 187
        },
        "outputId": "4e3ec6da-ed0f-49e1-e74c-bbc2f69e0da0"
      },
      "source": [
        "for f in resampled1_ds.take(10):\n",
        "  print(f.numpy())"
      ],
      "execution_count": 61,
      "outputs": [
        {
          "output_type": "stream",
          "text": [
            "b'ODIR-5K/Training Images/1164_left-C.jpg'\n",
            "b'ODIR-5K/Training Images/481_left-M.jpg'\n",
            "b'ODIR-5K/Training Images/1412_right-G.jpg'\n",
            "b'ODIR-5K/Training Images/1834_right-A.jpg'\n",
            "b'ODIR-5K/Training Images/2240_left-C.jpg'\n",
            "b'ODIR-5K/Training Images/2143_right-C.jpg'\n",
            "b'ODIR-5K/Training Images/1835_left-A.jpg'\n",
            "b'ODIR-5K/Training Images/3445_left-N.jpg'\n",
            "b'ODIR-5K/Training Images/344_right-O.jpg'\n",
            "b'ODIR-5K/Training Images/4190_right-D.jpg'\n"
          ],
          "name": "stdout"
        }
      ]
    },
    {
      "cell_type": "code",
      "metadata": {
        "id": "YYAaFraCpYze",
        "colab_type": "code",
        "colab": {}
      },
      "source": [
        "def get_label(name):\n",
        "  parts = tf.strings.split(name, sep=\"-\")\n",
        "  label = tf.strings.split(parts[-1], sep=\".\")\n",
        "  l = 0\n",
        "  if label[0] == 'N':\n",
        "    l = 0\n",
        "  elif label[0] == 'D':\n",
        "    l = 1\n",
        "  elif label[0] == 'G':\n",
        "    l = 2\n",
        "  elif label[0] == 'C':\n",
        "    l = 3\n",
        "  elif label[0] == 'A':\n",
        "    l = 4\n",
        "  elif label[0] == 'H':\n",
        "    l = 5\n",
        "  elif label[0] == 'M':\n",
        "    l = 6\n",
        "  else:\n",
        "    l = 7\n",
        "  return l #== CLASS_NAMES\n",
        "\n",
        "def get_name(file_path):\n",
        "  parts = tf.strings.split(file_path, os.path.sep)\n",
        "  return parts[-1]\n",
        "\n",
        "def decode_img(img):\n",
        "  # convert the compressed string to a 3D uint8 tensor\n",
        "  img = tf.image.decode_jpeg(img, channels=3)\n",
        "  img = tf.image.adjust_contrast(img, 3)\n",
        "  #img = tf.image.rgb_to_grayscale(img)\n",
        "  # Use `convert_image_dtype` to convert to floats in the [0,1] range.\n",
        "  img = tf.image.convert_image_dtype(img, tf.float32)\n",
        "  # resize the image to the desired size.\n",
        "  img = tf.image.resize_with_pad(img, IMG_HEIGHT, IMG_WIDTH, method='bilinear', antialias=False)\n",
        "  #img = tf.reshape(image, IMG_HEIGHT*IMG_WIDTH)\n",
        "  return img\n",
        "\n",
        "def process_path(file_path):\n",
        "  name = get_name(file_path)\n",
        "  label = get_label(name)\n",
        "  # load the raw data from the file as a string\n",
        "  img = tf.io.read_file(file_path)\n",
        "  img = decode_img(img)\n",
        "  return img, label"
      ],
      "execution_count": 0,
      "outputs": []
    },
    {
      "cell_type": "code",
      "metadata": {
        "id": "HZiKyF8sqEtz",
        "colab_type": "code",
        "colab": {}
      },
      "source": [
        "# Set `num_parallel_calls` so multiple images are loaded/processed in parallel.\n",
        "AUTOTUNE = tf.data.experimental.AUTOTUNE\n",
        "resampled_named_ds = resampled1_ds.map(process_path, num_parallel_calls=AUTOTUNE)\n",
        "test_named_ds = test_ds.map(process_path, num_parallel_calls=AUTOTUNE)"
      ],
      "execution_count": 0,
      "outputs": []
    },
    {
      "cell_type": "code",
      "metadata": {
        "id": "e-4gsxq63qOR",
        "colab_type": "code",
        "outputId": "4281bd85-62b4-4447-ae44-eb6b596f987b",
        "colab": {
          "base_uri": "https://localhost:8080/",
          "height": 402
        }
      },
      "source": [
        "for image, label in resampled_named_ds.take(4):\n",
        "  print(image.shape)\n",
        "  plt.imshow(image.numpy())\n",
        "  print('label: ', label.numpy())"
      ],
      "execution_count": 64,
      "outputs": [
        {
          "output_type": "stream",
          "text": [
            "(32, 32, 3)\n",
            "label:  3\n",
            "(32, 32, 3)\n",
            "label:  6\n",
            "(32, 32, 3)\n",
            "label:  2\n",
            "(32, 32, 3)\n",
            "label:  4\n"
          ],
          "name": "stdout"
        },
        {
          "output_type": "display_data",
          "data": {
            "image/png": "[encoded data removed]",
            "text/plain": [
              "<Figure size 432x288 with 1 Axes>"
            ]
          },
          "metadata": {
            "tags": [],
            "needs_background": "light"
          }
        }
      ]
    },
    {
      "cell_type": "code",
      "metadata": {
        "id": "sDA_aQFBZ_XC",
        "colab_type": "code",
        "colab": {
          "base_uri": "https://localhost:8080/",
          "height": 153
        },
        "outputId": "07ac7e24-0ae5-494e-991c-6a83ef34b2b9"
      },
      "source": [
        "pom = []\n",
        "for image, labels in resampled_named_ds.take(9000):\n",
        "  pom.append(labels.numpy())\n",
        "uni = np.unique(pom)\n",
        "for element in uni:\n",
        "  print(str(element)+\" : \"+str(pom.count(element)))"
      ],
      "execution_count": 65,
      "outputs": [
        {
          "output_type": "stream",
          "text": [
            "0 : 1176\n",
            "1 : 1147\n",
            "2 : 1150\n",
            "3 : 1090\n",
            "4 : 1147\n",
            "5 : 1139\n",
            "6 : 1065\n",
            "7 : 1086\n"
          ],
          "name": "stdout"
        }
      ]
    },
    {
      "cell_type": "code",
      "metadata": {
        "id": "jaZjb4xQ4EAD",
        "colab_type": "code",
        "colab": {}
      },
      "source": [
        "def randomly_augment(image,label):\n",
        "  image = tf.image.random_flip_left_right(image)\n",
        "  return image, label\n",
        "\n",
        "def prepare_for_training(ds, cache=True, shuffle_buffer_size=1000):\n",
        "  # This is a small dataset, only load it once, and keep it in memory.\n",
        "  # use `.cache(filename)` to cache preprocessing work for datasets that don't\n",
        "  # fit in memory.\n",
        "  ds = ds.cache()\n",
        "  ds = ds.shuffle(buffer_size=shuffle_buffer_size, reshuffle_each_iteration=False)\n",
        "  ds = ds.map(randomly_augment, num_parallel_calls=AUTOTUNE)\n",
        "  ds = ds.repeat()\n",
        "  ds = ds.batch(BATCH_SIZE, drop_remainder=True)\n",
        "  ds = ds.prefetch(buffer_size=AUTOTUNE)\n",
        "  return ds\n",
        "\n",
        "def prepare_for_testing(ds, cache=True, shuffle_buffer_size=1000):\n",
        "  # This is a small dataset, only load it once, and keep it in memory.\n",
        "  # use `.cache(filename)` to cache preprocessing work for datasets that don't\n",
        "  # fit in memory.\n",
        "  ds = ds.cache()\n",
        "  ds = ds.batch(32, drop_remainder=True) #all elemetnts for training should be batched in one!\n",
        "  ds = ds.repeat()\n",
        "\n",
        "  return ds"
      ],
      "execution_count": 0,
      "outputs": []
    },
    {
      "cell_type": "code",
      "metadata": {
        "id": "Rkijo_N6et2J",
        "colab_type": "code",
        "colab": {}
      },
      "source": [
        "final_train_ds = prepare_for_training(resampled_named_ds,cache=True,shuffle_buffer_size=6000)\n",
        "final_test_ds = prepare_for_testing(test_named_ds,cache=True,shuffle_buffer_size=100)"
      ],
      "execution_count": 0,
      "outputs": []
    },
    {
      "cell_type": "code",
      "metadata": {
        "id": "-XsMIrYYUcJX",
        "colab_type": "code",
        "colab": {
          "base_uri": "https://localhost:8080/",
          "height": 283
        },
        "outputId": "5f628a1e-1d6a-4cc5-bf1d-0c65883ae649"
      },
      "source": [
        "for example in final_train_ds.take(1):\n",
        "  image, label = example\n",
        "  break\n",
        "im, lab = image[14], label[14]\n",
        "plt.imshow(im)\n",
        "print(lab.numpy())"
      ],
      "execution_count": 71,
      "outputs": [
        {
          "output_type": "stream",
          "text": [
            "2\n"
          ],
          "name": "stdout"
        },
        {
          "output_type": "display_data",
          "data": {
            "image/png": "[encoded data removed]",
            "text/plain": [
              "<Figure size 432x288 with 1 Axes>"
            ]
          },
          "metadata": {
            "tags": [],
            "needs_background": "light"
          }
        }
      ]
    },
    {
      "cell_type": "code",
      "metadata": {
        "id": "lhd9B2JG804C",
        "colab_type": "code",
        "outputId": "61289021-317a-4252-9674-2324661b2c1e",
        "colab": {
          "base_uri": "https://localhost:8080/",
          "height": 765
        }
      },
      "source": [
        "model_cnn = tf.keras.Sequential([\n",
        "    \n",
        "    # 1st VGG block\n",
        "    tf.keras.layers.Conv2D(32, (3, 3), padding = \"same\", input_shape=(IMG_HEIGHT, IMG_WIDTH ,3)),\n",
        "    tf.keras.layers.BatchNormalization(center=True, scale=False),\n",
        "    tf.keras.layers.Activation(\"relu\"),\n",
        "\n",
        "    tf.keras.layers.Conv2D(32, (3, 3), padding = \"same\"),\n",
        "    tf.keras.layers.BatchNormalization(center=True, scale=False),\n",
        "    tf.keras.layers.Activation(\"relu\"),\n",
        "\n",
        "    tf.keras.layers.MaxPooling2D(pool_size = (2, 2)),\n",
        "    tf.keras.layers.Dropout(0.3),\n",
        "\n",
        "    #2nd VGG block\n",
        "    tf.keras.layers.Conv2D(128, (3, 3), padding = \"same\"),\n",
        "    tf.keras.layers.BatchNormalization(center=True, scale=False),\n",
        "    tf.keras.layers.Activation(\"relu\"),\n",
        "\n",
        "    tf.keras.layers.Conv2D(128, (3, 3), padding = \"same\"),\n",
        "    tf.keras.layers.BatchNormalization(center=True, scale=False),\n",
        "    tf.keras.layers.Activation(\"relu\"),\n",
        "\n",
        "    tf.keras.layers.MaxPooling2D(pool_size = (2, 2)),\n",
        "    tf.keras.layers.Dropout(0.3),\n",
        "\n",
        "    tf.keras.layers.Flatten(),\n",
        "\n",
        "    tf.keras.layers.Dense(8, activation = 'softmax')\n",
        "])\n",
        "\n",
        "model_cnn.compile(optimizer=tf.keras.optimizers.Adam(lr=0.01),\n",
        "              loss='sparse_categorical_crossentropy',\n",
        "              metrics=['accuracy'])\n",
        "\n",
        "model_cnn.summary()"
      ],
      "execution_count": 72,
      "outputs": [
        {
          "output_type": "stream",
          "text": [
            "Model: \"sequential_2\"\n",
            "_________________________________________________________________\n",
            "Layer (type)                 Output Shape              Param #   \n",
            "=================================================================\n",
            "conv2d_8 (Conv2D)            (None, 32, 32, 32)        896       \n",
            "_________________________________________________________________\n",
            "batch_normalization_8 (Batch (None, 32, 32, 32)        96        \n",
            "_________________________________________________________________\n",
            "activation_8 (Activation)    (None, 32, 32, 32)        0         \n",
            "_________________________________________________________________\n",
            "conv2d_9 (Conv2D)            (None, 32, 32, 32)        9248      \n",
            "_________________________________________________________________\n",
            "batch_normalization_9 (Batch (None, 32, 32, 32)        96        \n",
            "_________________________________________________________________\n",
            "activation_9 (Activation)    (None, 32, 32, 32)        0         \n",
            "_________________________________________________________________\n",
            "max_pooling2d_4 (MaxPooling2 (None, 16, 16, 32)        0         \n",
            "_________________________________________________________________\n",
            "dropout_4 (Dropout)          (None, 16, 16, 32)        0         \n",
            "_________________________________________________________________\n",
            "conv2d_10 (Conv2D)           (None, 16, 16, 128)       36992     \n",
            "_________________________________________________________________\n",
            "batch_normalization_10 (Batc (None, 16, 16, 128)       384       \n",
            "_________________________________________________________________\n",
            "activation_10 (Activation)   (None, 16, 16, 128)       0         \n",
            "_________________________________________________________________\n",
            "conv2d_11 (Conv2D)           (None, 16, 16, 128)       147584    \n",
            "_________________________________________________________________\n",
            "batch_normalization_11 (Batc (None, 16, 16, 128)       384       \n",
            "_________________________________________________________________\n",
            "activation_11 (Activation)   (None, 16, 16, 128)       0         \n",
            "_________________________________________________________________\n",
            "max_pooling2d_5 (MaxPooling2 (None, 8, 8, 128)         0         \n",
            "_________________________________________________________________\n",
            "dropout_5 (Dropout)          (None, 8, 8, 128)         0         \n",
            "_________________________________________________________________\n",
            "flatten_2 (Flatten)          (None, 8192)              0         \n",
            "_________________________________________________________________\n",
            "dense_2 (Dense)              (None, 8)                 65544     \n",
            "=================================================================\n",
            "Total params: 261,224\n",
            "Trainable params: 260,584\n",
            "Non-trainable params: 640\n",
            "_________________________________________________________________\n"
          ],
          "name": "stdout"
        }
      ]
    },
    {
      "cell_type": "code",
      "metadata": {
        "id": "GXXKlE-6T0w7",
        "colab_type": "code",
        "outputId": "bd21fa42-a851-4276-d4ed-e08f52d36239",
        "colab": {
          "base_uri": "https://localhost:8080/",
          "height": 1000
        }
      },
      "source": [
        "history_cnn = model_cnn.fit(final_train_ds.repeat(),\n",
        "                    #batch_size=32,\n",
        "                    epochs=100,\n",
        "                    steps_per_epoch = 163, #train_elements/batch_size\n",
        "                    validation_data=final_test_ds.repeat(),\n",
        "                    validation_steps = 25,\n",
        "                    use_multiprocessing=True,\n",
        "                    #class_weight=class_weight\n",
        "                    )"
      ],
      "execution_count": 73,
      "outputs": [
        {
          "output_type": "stream",
          "text": [
            "Epoch 1/100\n",
            "163/163 [==============================] - 4s 25ms/step - loss: 8.8789 - accuracy: 0.1735 - val_loss: 2.7093 - val_accuracy: 0.1213\n",
            "Epoch 2/100\n",
            "163/163 [==============================] - 4s 24ms/step - loss: 2.8620 - accuracy: 0.2268 - val_loss: 2.0633 - val_accuracy: 0.1025\n",
            "Epoch 3/100\n",
            "163/163 [==============================] - 4s 24ms/step - loss: 1.9027 - accuracy: 0.2832 - val_loss: 1.9284 - val_accuracy: 0.2125\n",
            "Epoch 4/100\n",
            "163/163 [==============================] - 4s 24ms/step - loss: 1.7757 - accuracy: 0.3299 - val_loss: 1.9266 - val_accuracy: 0.1838\n",
            "Epoch 5/100\n",
            "163/163 [==============================] - 4s 24ms/step - loss: 1.6913 - accuracy: 0.3577 - val_loss: 1.9513 - val_accuracy: 0.1925\n",
            "Epoch 6/100\n",
            "163/163 [==============================] - 4s 23ms/step - loss: 1.6453 - accuracy: 0.3829 - val_loss: 1.8791 - val_accuracy: 0.2000\n",
            "Epoch 7/100\n",
            "163/163 [==============================] - 4s 22ms/step - loss: 1.6138 - accuracy: 0.3957 - val_loss: 1.9595 - val_accuracy: 0.2075\n",
            "Epoch 8/100\n",
            "163/163 [==============================] - 4s 22ms/step - loss: 1.5617 - accuracy: 0.4145 - val_loss: 2.0453 - val_accuracy: 0.2025\n",
            "Epoch 9/100\n",
            "163/163 [==============================] - 4s 23ms/step - loss: 1.5278 - accuracy: 0.4293 - val_loss: 2.2627 - val_accuracy: 0.2175\n",
            "Epoch 10/100\n",
            "163/163 [==============================] - 4s 22ms/step - loss: 1.4760 - accuracy: 0.4383 - val_loss: 1.9181 - val_accuracy: 0.2438\n",
            "Epoch 11/100\n",
            "163/163 [==============================] - 3s 21ms/step - loss: 1.4396 - accuracy: 0.4661 - val_loss: 2.0931 - val_accuracy: 0.1863\n",
            "Epoch 12/100\n",
            "163/163 [==============================] - 4s 22ms/step - loss: 1.4019 - accuracy: 0.4780 - val_loss: 1.8759 - val_accuracy: 0.2188\n",
            "Epoch 13/100\n",
            "163/163 [==============================] - 4s 22ms/step - loss: 1.3788 - accuracy: 0.4950 - val_loss: 2.0182 - val_accuracy: 0.1925\n",
            "Epoch 14/100\n",
            "163/163 [==============================] - 4s 22ms/step - loss: 1.3352 - accuracy: 0.5109 - val_loss: 1.8532 - val_accuracy: 0.2425\n",
            "Epoch 15/100\n",
            "163/163 [==============================] - 4s 22ms/step - loss: 1.3326 - accuracy: 0.5021 - val_loss: 1.8902 - val_accuracy: 0.2087\n",
            "Epoch 16/100\n",
            "163/163 [==============================] - 4s 22ms/step - loss: 1.2951 - accuracy: 0.5305 - val_loss: 2.1392 - val_accuracy: 0.1800\n",
            "Epoch 17/100\n",
            "163/163 [==============================] - 4s 22ms/step - loss: 1.2826 - accuracy: 0.5259 - val_loss: 2.0683 - val_accuracy: 0.2450\n",
            "Epoch 18/100\n",
            "163/163 [==============================] - 4s 22ms/step - loss: 1.2672 - accuracy: 0.5291 - val_loss: 1.9761 - val_accuracy: 0.2250\n",
            "Epoch 19/100\n",
            "163/163 [==============================] - 4s 22ms/step - loss: 1.2233 - accuracy: 0.5497 - val_loss: 1.8945 - val_accuracy: 0.2500\n",
            "Epoch 20/100\n",
            "163/163 [==============================] - 4s 22ms/step - loss: 1.2217 - accuracy: 0.5462 - val_loss: 2.0779 - val_accuracy: 0.2488\n",
            "Epoch 21/100\n",
            "163/163 [==============================] - 4s 22ms/step - loss: 1.1785 - accuracy: 0.5660 - val_loss: 1.9959 - val_accuracy: 0.2262\n",
            "Epoch 22/100\n",
            "163/163 [==============================] - 4s 22ms/step - loss: 1.1609 - accuracy: 0.5719 - val_loss: 1.7918 - val_accuracy: 0.3000\n",
            "Epoch 23/100\n",
            "163/163 [==============================] - 4s 22ms/step - loss: 1.1661 - accuracy: 0.5640 - val_loss: 2.1690 - val_accuracy: 0.2150\n",
            "Epoch 24/100\n",
            "163/163 [==============================] - 4s 22ms/step - loss: 1.1630 - accuracy: 0.5684 - val_loss: 1.7908 - val_accuracy: 0.3200\n",
            "Epoch 25/100\n",
            "163/163 [==============================] - 4s 22ms/step - loss: 1.1153 - accuracy: 0.5926 - val_loss: 1.8272 - val_accuracy: 0.2637\n",
            "Epoch 26/100\n",
            "163/163 [==============================] - 4s 22ms/step - loss: 1.1027 - accuracy: 0.5909 - val_loss: 1.8958 - val_accuracy: 0.2675\n",
            "Epoch 27/100\n",
            "163/163 [==============================] - 4s 22ms/step - loss: 1.1123 - accuracy: 0.5899 - val_loss: 1.7013 - val_accuracy: 0.3150\n",
            "Epoch 28/100\n",
            "163/163 [==============================] - 4s 23ms/step - loss: 1.0748 - accuracy: 0.6037 - val_loss: 1.7615 - val_accuracy: 0.3000\n",
            "Epoch 29/100\n",
            "163/163 [==============================] - 4s 22ms/step - loss: 1.0521 - accuracy: 0.6169 - val_loss: 1.9262 - val_accuracy: 0.2700\n",
            "Epoch 30/100\n",
            "163/163 [==============================] - 4s 22ms/step - loss: 1.0470 - accuracy: 0.6208 - val_loss: 1.7697 - val_accuracy: 0.2925\n",
            "Epoch 31/100\n",
            "163/163 [==============================] - 4s 22ms/step - loss: 1.0212 - accuracy: 0.6263 - val_loss: 1.7710 - val_accuracy: 0.3038\n",
            "Epoch 32/100\n",
            "163/163 [==============================] - 4s 23ms/step - loss: 0.9959 - accuracy: 0.6298 - val_loss: 1.8205 - val_accuracy: 0.2950\n",
            "Epoch 33/100\n",
            "163/163 [==============================] - 4s 23ms/step - loss: 1.0122 - accuracy: 0.6265 - val_loss: 1.7848 - val_accuracy: 0.3225\n",
            "Epoch 34/100\n",
            "163/163 [==============================] - 4s 23ms/step - loss: 0.9855 - accuracy: 0.6325 - val_loss: 1.7301 - val_accuracy: 0.3225\n",
            "Epoch 35/100\n",
            "163/163 [==============================] - 4s 23ms/step - loss: 0.9781 - accuracy: 0.6409 - val_loss: 1.7317 - val_accuracy: 0.3038\n",
            "Epoch 36/100\n",
            "163/163 [==============================] - 4s 23ms/step - loss: 0.9810 - accuracy: 0.6363 - val_loss: 1.8356 - val_accuracy: 0.3000\n",
            "Epoch 37/100\n",
            "163/163 [==============================] - 4s 22ms/step - loss: 0.9323 - accuracy: 0.6587 - val_loss: 1.7932 - val_accuracy: 0.3338\n",
            "Epoch 38/100\n",
            "163/163 [==============================] - 4s 23ms/step - loss: 0.9589 - accuracy: 0.6438 - val_loss: 1.7893 - val_accuracy: 0.3125\n",
            "Epoch 39/100\n",
            "163/163 [==============================] - 4s 23ms/step - loss: 0.9397 - accuracy: 0.6474 - val_loss: 1.6703 - val_accuracy: 0.3638\n",
            "Epoch 40/100\n",
            "163/163 [==============================] - 4s 24ms/step - loss: 0.9235 - accuracy: 0.6587 - val_loss: 1.9083 - val_accuracy: 0.3125\n",
            "Epoch 41/100\n",
            "163/163 [==============================] - 4s 23ms/step - loss: 0.9390 - accuracy: 0.6570 - val_loss: 1.9281 - val_accuracy: 0.2812\n",
            "Epoch 42/100\n",
            "163/163 [==============================] - 4s 23ms/step - loss: 0.8885 - accuracy: 0.6681 - val_loss: 1.8376 - val_accuracy: 0.3050\n",
            "Epoch 43/100\n",
            "163/163 [==============================] - 4s 23ms/step - loss: 0.8766 - accuracy: 0.6764 - val_loss: 1.8003 - val_accuracy: 0.3537\n",
            "Epoch 44/100\n",
            "163/163 [==============================] - 4s 24ms/step - loss: 0.8610 - accuracy: 0.6810 - val_loss: 1.8089 - val_accuracy: 0.3038\n",
            "Epoch 45/100\n",
            "163/163 [==============================] - 4s 24ms/step - loss: 0.8401 - accuracy: 0.6852 - val_loss: 1.8747 - val_accuracy: 0.3450\n",
            "Epoch 46/100\n",
            "163/163 [==============================] - 4s 23ms/step - loss: 0.8472 - accuracy: 0.6819 - val_loss: 1.8916 - val_accuracy: 0.3225\n",
            "Epoch 47/100\n",
            "163/163 [==============================] - 4s 24ms/step - loss: 0.8201 - accuracy: 0.6921 - val_loss: 1.8917 - val_accuracy: 0.3338\n",
            "Epoch 48/100\n",
            "163/163 [==============================] - 4s 23ms/step - loss: 0.8471 - accuracy: 0.6829 - val_loss: 1.7547 - val_accuracy: 0.3388\n",
            "Epoch 49/100\n",
            "163/163 [==============================] - 4s 24ms/step - loss: 0.8336 - accuracy: 0.6910 - val_loss: 1.8679 - val_accuracy: 0.3237\n",
            "Epoch 50/100\n",
            "163/163 [==============================] - 4s 26ms/step - loss: 0.8255 - accuracy: 0.6931 - val_loss: 1.7436 - val_accuracy: 0.3450\n",
            "Epoch 51/100\n",
            "163/163 [==============================] - 4s 23ms/step - loss: 0.8082 - accuracy: 0.6931 - val_loss: 1.6982 - val_accuracy: 0.3950\n",
            "Epoch 52/100\n",
            "163/163 [==============================] - 4s 23ms/step - loss: 0.8236 - accuracy: 0.6917 - val_loss: 1.8626 - val_accuracy: 0.3450\n",
            "Epoch 53/100\n",
            "163/163 [==============================] - 4s 25ms/step - loss: 0.8064 - accuracy: 0.6963 - val_loss: 1.7785 - val_accuracy: 0.3812\n",
            "Epoch 54/100\n",
            "163/163 [==============================] - 4s 24ms/step - loss: 0.8052 - accuracy: 0.6954 - val_loss: 1.8970 - val_accuracy: 0.2825\n",
            "Epoch 55/100\n",
            "163/163 [==============================] - 4s 25ms/step - loss: 0.7974 - accuracy: 0.6963 - val_loss: 1.7367 - val_accuracy: 0.3575\n",
            "Epoch 56/100\n",
            "163/163 [==============================] - 4s 27ms/step - loss: 0.7834 - accuracy: 0.7065 - val_loss: 1.8571 - val_accuracy: 0.3438\n",
            "Epoch 57/100\n",
            "163/163 [==============================] - 4s 25ms/step - loss: 0.7595 - accuracy: 0.7199 - val_loss: 1.9025 - val_accuracy: 0.3500\n",
            "Epoch 58/100\n",
            "163/163 [==============================] - 4s 26ms/step - loss: 0.7546 - accuracy: 0.7174 - val_loss: 1.7134 - val_accuracy: 0.3700\n",
            "Epoch 59/100\n",
            "163/163 [==============================] - 4s 26ms/step - loss: 0.7589 - accuracy: 0.7193 - val_loss: 1.6742 - val_accuracy: 0.3837\n",
            "Epoch 60/100\n",
            "163/163 [==============================] - 4s 26ms/step - loss: 0.7527 - accuracy: 0.7136 - val_loss: 1.8632 - val_accuracy: 0.3225\n",
            "Epoch 61/100\n",
            "163/163 [==============================] - 4s 26ms/step - loss: 0.7562 - accuracy: 0.7182 - val_loss: 1.8347 - val_accuracy: 0.3350\n",
            "Epoch 62/100\n",
            "163/163 [==============================] - 5s 28ms/step - loss: 0.7290 - accuracy: 0.7291 - val_loss: 1.8645 - val_accuracy: 0.3650\n",
            "Epoch 63/100\n",
            "163/163 [==============================] - 5s 31ms/step - loss: 0.7716 - accuracy: 0.7065 - val_loss: 1.9125 - val_accuracy: 0.3750\n",
            "Epoch 64/100\n",
            "163/163 [==============================] - 5s 28ms/step - loss: 0.7409 - accuracy: 0.7234 - val_loss: 1.7985 - val_accuracy: 0.3938\n",
            "Epoch 65/100\n",
            "163/163 [==============================] - 5s 29ms/step - loss: 0.7387 - accuracy: 0.7226 - val_loss: 1.7923 - val_accuracy: 0.3950\n",
            "Epoch 66/100\n",
            "163/163 [==============================] - 5s 32ms/step - loss: 0.7300 - accuracy: 0.7230 - val_loss: 1.7697 - val_accuracy: 0.3787\n",
            "Epoch 67/100\n",
            "163/163 [==============================] - 6s 38ms/step - loss: 0.7204 - accuracy: 0.7222 - val_loss: 1.7720 - val_accuracy: 0.3800\n",
            "Epoch 68/100\n",
            "163/163 [==============================] - 5s 29ms/step - loss: 0.6883 - accuracy: 0.7360 - val_loss: 1.8396 - val_accuracy: 0.3550\n",
            "Epoch 69/100\n",
            "163/163 [==============================] - 5s 33ms/step - loss: 0.7040 - accuracy: 0.7339 - val_loss: 1.8641 - val_accuracy: 0.3600\n",
            "Epoch 70/100\n",
            "163/163 [==============================] - 8s 48ms/step - loss: 0.7009 - accuracy: 0.7349 - val_loss: 1.7855 - val_accuracy: 0.3925\n",
            "Epoch 71/100\n",
            "163/163 [==============================] - 6s 34ms/step - loss: 0.6757 - accuracy: 0.7454 - val_loss: 1.9029 - val_accuracy: 0.3363\n",
            "Epoch 72/100\n",
            "163/163 [==============================] - 5s 30ms/step - loss: 0.7022 - accuracy: 0.7280 - val_loss: 1.9770 - val_accuracy: 0.3338\n",
            "Epoch 73/100\n",
            "163/163 [==============================] - 5s 32ms/step - loss: 0.6634 - accuracy: 0.7550 - val_loss: 1.8251 - val_accuracy: 0.3950\n",
            "Epoch 74/100\n",
            "163/163 [==============================] - 8s 48ms/step - loss: 0.6556 - accuracy: 0.7579 - val_loss: 1.8462 - val_accuracy: 0.3237\n",
            "Epoch 75/100\n",
            "163/163 [==============================] - 8s 46ms/step - loss: 0.6831 - accuracy: 0.7408 - val_loss: 1.9216 - val_accuracy: 0.3512\n",
            "Epoch 76/100\n",
            "163/163 [==============================] - 8s 47ms/step - loss: 0.6405 - accuracy: 0.7542 - val_loss: 1.8824 - val_accuracy: 0.3663\n",
            "Epoch 77/100\n",
            "163/163 [==============================] - 5s 33ms/step - loss: 0.6684 - accuracy: 0.7471 - val_loss: 1.8858 - val_accuracy: 0.3625\n",
            "Epoch 78/100\n",
            "163/163 [==============================] - 5s 32ms/step - loss: 0.6504 - accuracy: 0.7550 - val_loss: 1.9812 - val_accuracy: 0.3313\n",
            "Epoch 79/100\n",
            "163/163 [==============================] - 7s 42ms/step - loss: 0.6417 - accuracy: 0.7594 - val_loss: 1.9475 - val_accuracy: 0.3425\n",
            "Epoch 80/100\n",
            "163/163 [==============================] - 10s 61ms/step - loss: 0.6593 - accuracy: 0.7535 - val_loss: 1.8887 - val_accuracy: 0.3500\n",
            "Epoch 81/100\n",
            "163/163 [==============================] - 9s 57ms/step - loss: 0.6408 - accuracy: 0.7604 - val_loss: 1.8792 - val_accuracy: 0.3500\n",
            "Epoch 82/100\n",
            "163/163 [==============================] - 7s 45ms/step - loss: 0.6373 - accuracy: 0.7607 - val_loss: 1.8847 - val_accuracy: 0.3862\n",
            "Epoch 83/100\n",
            "163/163 [==============================] - 6s 39ms/step - loss: 0.6581 - accuracy: 0.7533 - val_loss: 1.8386 - val_accuracy: 0.3775\n",
            "Epoch 84/100\n",
            "163/163 [==============================] - 6s 38ms/step - loss: 0.6323 - accuracy: 0.7575 - val_loss: 1.9335 - val_accuracy: 0.3638\n",
            "Epoch 85/100\n",
            "163/163 [==============================] - 5s 33ms/step - loss: 0.6481 - accuracy: 0.7544 - val_loss: 1.9350 - val_accuracy: 0.3975\n",
            "Epoch 86/100\n",
            "163/163 [==============================] - 4s 26ms/step - loss: 0.6348 - accuracy: 0.7558 - val_loss: 2.1444 - val_accuracy: 0.3162\n",
            "Epoch 87/100\n",
            "163/163 [==============================] - 8s 47ms/step - loss: 0.6614 - accuracy: 0.7483 - val_loss: 2.0814 - val_accuracy: 0.3475\n",
            "Epoch 88/100\n",
            "163/163 [==============================] - 11s 65ms/step - loss: 0.6362 - accuracy: 0.7594 - val_loss: 1.9060 - val_accuracy: 0.3500\n",
            "Epoch 89/100\n",
            "163/163 [==============================] - 10s 59ms/step - loss: 0.5968 - accuracy: 0.7709 - val_loss: 1.9428 - val_accuracy: 0.3812\n",
            "Epoch 90/100\n",
            "163/163 [==============================] - 8s 52ms/step - loss: 0.6290 - accuracy: 0.7613 - val_loss: 1.9568 - val_accuracy: 0.3725\n",
            "Epoch 91/100\n",
            "163/163 [==============================] - 7s 43ms/step - loss: 0.6309 - accuracy: 0.7604 - val_loss: 1.9970 - val_accuracy: 0.3750\n",
            "Epoch 92/100\n",
            "163/163 [==============================] - 5s 32ms/step - loss: 0.6166 - accuracy: 0.7634 - val_loss: 1.9742 - val_accuracy: 0.3650\n",
            "Epoch 93/100\n",
            "163/163 [==============================] - 5s 29ms/step - loss: 0.6195 - accuracy: 0.7676 - val_loss: 1.9610 - val_accuracy: 0.3887\n",
            "Epoch 94/100\n",
            "163/163 [==============================] - 4s 23ms/step - loss: 0.6161 - accuracy: 0.7680 - val_loss: 2.0001 - val_accuracy: 0.3587\n",
            "Epoch 95/100\n",
            "163/163 [==============================] - 10s 62ms/step - loss: 0.6081 - accuracy: 0.7590 - val_loss: 1.9006 - val_accuracy: 0.3938\n",
            "Epoch 96/100\n",
            "163/163 [==============================] - 17s 104ms/step - loss: 0.5999 - accuracy: 0.7740 - val_loss: 2.1180 - val_accuracy: 0.3638\n",
            "Epoch 97/100\n",
            "163/163 [==============================] - 16s 101ms/step - loss: 0.5896 - accuracy: 0.7736 - val_loss: 1.9686 - val_accuracy: 0.3600\n",
            "Epoch 98/100\n",
            "163/163 [==============================] - 15s 92ms/step - loss: 0.5937 - accuracy: 0.7688 - val_loss: 1.8757 - val_accuracy: 0.4025\n",
            "Epoch 99/100\n",
            "163/163 [==============================] - 14s 85ms/step - loss: 0.5806 - accuracy: 0.7780 - val_loss: 2.0538 - val_accuracy: 0.3613\n",
            "Epoch 100/100\n",
            "163/163 [==============================] - 10s 62ms/step - loss: 0.5871 - accuracy: 0.7720 - val_loss: 1.9207 - val_accuracy: 0.3738\n"
          ],
          "name": "stdout"
        }
      ]
    },
    {
      "cell_type": "code",
      "metadata": {
        "id": "JeLrAZeYGXQT",
        "colab_type": "code",
        "colab": {}
      },
      "source": [
        "!rm -rf ODIR-5K/Training-Images"
      ],
      "execution_count": 0,
      "outputs": []
    }
  ]
}