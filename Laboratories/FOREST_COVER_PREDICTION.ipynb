{
  "nbformat": 4,
  "nbformat_minor": 0,
  "metadata": {
    "colab": {
      "name": "FOREST_COVER_PREDICTION.ipynb",
      "provenance": [],
      "authorship_tag": "ABX9TyOUobUlW8jULx37Fid1MIEj",
      "include_colab_link": true
    },
    "kernelspec": {
      "name": "python3",
      "display_name": "Python 3"
    }
  },
  "cells": [
    {
      "cell_type": "markdown",
      "metadata": {
        "id": "view-in-github",
        "colab_type": "text"
      },
      "source": [
        "<a href=\"https://colab.research.google.com/github/GrzegorzMeller/AlgorithmsForMassiveData/blob/master/FOREST_COVER_PREDICTION.ipynb\" target=\"_parent\"><img src=\"https://colab.research.google.com/assets/colab-badge.svg\" alt=\"Open In Colab\"/></a>"
      ]
    },
    {
      "cell_type": "markdown",
      "metadata": {
        "id": "zRpjwBnuE310",
        "colab_type": "text"
      },
      "source": [
        "Exercises 30/04\n",
        "In the 30/04 lab lecture we will focus on data scaling.\n",
        "\n",
        "Data scaling is a common preprocessing that is performed on datasets where data is represented with different scales.\n",
        "\n",
        "Several scaling methods are available, where the most common are:\n",
        "\n",
        "Normalization. It is basically a rescaling of the data so that the values are within the range  [0,1] .\n",
        "Standardization. It consists of rescaling the distribution of the observed values to zero mean and unit standard deviation. In the literature, this process is sometimes referred to as whitening.\n",
        "In the lab lecture we will see how to perform data scaling and why data scaling is important for neural networks.\n",
        "\n",
        "Meanwhile, address the following exercises.\n",
        "\n",
        "Build three feed-forward neural network models with one or more layers as follows:\n",
        "\n",
        "first network: use the original raw data,\n",
        "second network: use normalized data,\n",
        "third network: use standardized data.\n",
        "Do not use convolutional layers. Exploit the methods we saw in the last lab lecture to properly train the networks (for instance, techniques to avoid overfitting). use TensorBoard to assess the performance.\n",
        "\n",
        "Finally, address the following questions:\n",
        "\n",
        "Which network reaches the best performance?\n",
        "Do you notice the difference in performance when scaling the data?\n",
        "Which scaling method is the best? Can you guess why?\n",
        "\n",
        "Download the Forest Cover Type Prediction dataset.\n",
        "\n",
        "The dataset contains tree observations from four areas of the Roosevelt National Forest in Colorado. All observations are cartographic variables (no remote sensing) from 30 meter x 30 meter sections of forest. The task is to predict the forest cover type (the predominant kind of tree cover) from strictly cartographic variables (as opposed to remotely sensed data). More info related to the dataset are available here.\n",
        "\n",
        "Download the dataset in the Google Colab environment using curl as follows:"
      ]
    },
    {
      "cell_type": "code",
      "metadata": {
        "id": "0GvA82tv1I2U",
        "colab_type": "code",
        "colab": {
          "base_uri": "https://localhost:8080/",
          "height": 68
        },
        "outputId": "b7f4f521-7008-4589-e402-4b5fb04e0d7f"
      },
      "source": [
        "!curl http://bodini.di.unimi.it/teaching/ADM_files/covtype.csv --output covtype.csv"
      ],
      "execution_count": 1,
      "outputs": [
        {
          "output_type": "stream",
          "text": [
            "  % Total    % Received % Xferd  Average Speed   Time    Time     Time  Current\n",
            "                                 Dload  Upload   Total   Spent    Left  Speed\n",
            "100 71.6M  100 71.6M    0     0  13.6M      0  0:00:05  0:00:05 --:--:-- 19.1M\n"
          ],
          "name": "stdout"
        }
      ]
    },
    {
      "cell_type": "code",
      "metadata": {
        "id": "h2qOAG6l1K02",
        "colab_type": "code",
        "colab": {
          "base_uri": "https://localhost:8080/",
          "height": 442
        },
        "outputId": "3722425f-e59f-4ed5-9557-084588129cfe"
      },
      "source": [
        "import pandas as pd\n",
        "\n",
        "df = pd.read_csv('covtype.csv')\n",
        "x = df[df.columns[:-1]]\n",
        "y = df.Cover_Type\n",
        "\n",
        "print(x, y)"
      ],
      "execution_count": 2,
      "outputs": [
        {
          "output_type": "stream",
          "text": [
            "        Elevation  Aspect  Slope  ...  Soil_Type38  Soil_Type39  Soil_Type40\n",
            "0            2596      51      3  ...            0            0            0\n",
            "1            2590      56      2  ...            0            0            0\n",
            "2            2804     139      9  ...            0            0            0\n",
            "3            2785     155     18  ...            0            0            0\n",
            "4            2595      45      2  ...            0            0            0\n",
            "...           ...     ...    ...  ...          ...          ...          ...\n",
            "581007       2396     153     20  ...            0            0            0\n",
            "581008       2391     152     19  ...            0            0            0\n",
            "581009       2386     159     17  ...            0            0            0\n",
            "581010       2384     170     15  ...            0            0            0\n",
            "581011       2383     165     13  ...            0            0            0\n",
            "\n",
            "[581012 rows x 54 columns] 0         5\n",
            "1         5\n",
            "2         2\n",
            "3         2\n",
            "4         5\n",
            "         ..\n",
            "581007    3\n",
            "581008    3\n",
            "581009    3\n",
            "581010    3\n",
            "581011    3\n",
            "Name: Cover_Type, Length: 581012, dtype: int64\n"
          ],
          "name": "stdout"
        }
      ]
    },
    {
      "cell_type": "code",
      "metadata": {
        "id": "Jq-XefK61bj7",
        "colab_type": "code",
        "colab": {
          "base_uri": "https://localhost:8080/",
          "height": 34
        },
        "outputId": "db901765-caeb-4711-afd3-c6fc7c73e1a7"
      },
      "source": [
        "from sklearn.model_selection import train_test_split\n",
        "\n",
        "x_train, x_test, y_train, y_test = train_test_split(x, y , train_size = 0.7, random_state = 90)\n",
        "print(x_train.shape,y_train.shape, x_test.shape, y_test.shape)"
      ],
      "execution_count": 3,
      "outputs": [
        {
          "output_type": "stream",
          "text": [
            "(406708, 54) (406708,) (174304, 54) (174304,)\n"
          ],
          "name": "stdout"
        }
      ]
    },
    {
      "cell_type": "code",
      "metadata": {
        "id": "PXoSq6J31fxP",
        "colab_type": "code",
        "colab": {
          "base_uri": "https://localhost:8080/",
          "height": 255
        },
        "outputId": "51f3919f-3c4c-4016-cdcb-12457b2113ed"
      },
      "source": [
        "import tensorflow as tf\n",
        "from tensorflow import keras\n",
        "#neural network implementation\n",
        "model = keras.Sequential([\n",
        "    keras.layers.Dense(64, activation=\"relu\", input_shape=(x_train.shape[1],)), \n",
        "\n",
        "    keras.layers.Dense(64, activation=\"relu\"),\n",
        "\n",
        "\n",
        "    keras.layers.Dense(8, activation=\"softmax\")]) \n",
        "  \n",
        "\n",
        "model.compile(optimizer='adam',\n",
        "              loss='sparse_categorical_crossentropy',\n",
        "              metrics=['accuracy'])\n",
        "\n",
        "model.summary()"
      ],
      "execution_count": 9,
      "outputs": [
        {
          "output_type": "stream",
          "text": [
            "Model: \"sequential_2\"\n",
            "_________________________________________________________________\n",
            "Layer (type)                 Output Shape              Param #   \n",
            "=================================================================\n",
            "dense_6 (Dense)              (None, 64)                3520      \n",
            "_________________________________________________________________\n",
            "dense_7 (Dense)              (None, 64)                4160      \n",
            "_________________________________________________________________\n",
            "dense_8 (Dense)              (None, 8)                 520       \n",
            "=================================================================\n",
            "Total params: 8,200\n",
            "Trainable params: 8,200\n",
            "Non-trainable params: 0\n",
            "_________________________________________________________________\n"
          ],
          "name": "stdout"
        }
      ]
    },
    {
      "cell_type": "code",
      "metadata": {
        "id": "49ZuFqZs17VF",
        "colab_type": "code",
        "colab": {
          "base_uri": "https://localhost:8080/",
          "height": 1000
        },
        "outputId": "88ac8165-ada7-4d29-ea5a-95d503af3ccf"
      },
      "source": [
        "history = model.fit(x_train,\n",
        "                    y_train,\n",
        "                    batch_size=60,\n",
        "                    epochs=30,\n",
        "                    validation_data=(x_test,y_test),\n",
        "                    )"
      ],
      "execution_count": 10,
      "outputs": [
        {
          "output_type": "stream",
          "text": [
            "Epoch 1/30\n",
            "6779/6779 [==============================] - 12s 2ms/step - loss: 2.8001 - accuracy: 0.5813 - val_loss: 0.9136 - val_accuracy: 0.7024\n",
            "Epoch 2/30\n",
            "6779/6779 [==============================] - 12s 2ms/step - loss: 1.0783 - accuracy: 0.6465 - val_loss: 0.9105 - val_accuracy: 0.6910\n",
            "Epoch 3/30\n",
            "6779/6779 [==============================] - 12s 2ms/step - loss: 0.7799 - accuracy: 0.6835 - val_loss: 0.6595 - val_accuracy: 0.7248\n",
            "Epoch 4/30\n",
            "6779/6779 [==============================] - 12s 2ms/step - loss: 0.6811 - accuracy: 0.7080 - val_loss: 0.6581 - val_accuracy: 0.7118\n",
            "Epoch 5/30\n",
            "6779/6779 [==============================] - 12s 2ms/step - loss: 0.6378 - accuracy: 0.7237 - val_loss: 0.6260 - val_accuracy: 0.7205\n",
            "Epoch 6/30\n",
            "6779/6779 [==============================] - 13s 2ms/step - loss: 0.6084 - accuracy: 0.7364 - val_loss: 0.5763 - val_accuracy: 0.7538\n",
            "Epoch 7/30\n",
            "6779/6779 [==============================] - 12s 2ms/step - loss: 0.5870 - accuracy: 0.7461 - val_loss: 0.6116 - val_accuracy: 0.7335\n",
            "Epoch 8/30\n",
            "6779/6779 [==============================] - 12s 2ms/step - loss: 0.5742 - accuracy: 0.7521 - val_loss: 0.5526 - val_accuracy: 0.7596\n",
            "Epoch 9/30\n",
            "6779/6779 [==============================] - 13s 2ms/step - loss: 0.5650 - accuracy: 0.7555 - val_loss: 0.5772 - val_accuracy: 0.7473\n",
            "Epoch 10/30\n",
            "6779/6779 [==============================] - 12s 2ms/step - loss: 0.5560 - accuracy: 0.7592 - val_loss: 0.5669 - val_accuracy: 0.7550\n",
            "Epoch 11/30\n",
            "6779/6779 [==============================] - 12s 2ms/step - loss: 0.5498 - accuracy: 0.7619 - val_loss: 0.5372 - val_accuracy: 0.7708\n",
            "Epoch 12/30\n",
            "6779/6779 [==============================] - 12s 2ms/step - loss: 0.5459 - accuracy: 0.7645 - val_loss: 0.5372 - val_accuracy: 0.7660\n",
            "Epoch 13/30\n",
            "6779/6779 [==============================] - 12s 2ms/step - loss: 0.5408 - accuracy: 0.7666 - val_loss: 0.5338 - val_accuracy: 0.7729\n",
            "Epoch 14/30\n",
            "6779/6779 [==============================] - 12s 2ms/step - loss: 0.5349 - accuracy: 0.7692 - val_loss: 0.5841 - val_accuracy: 0.7416\n",
            "Epoch 15/30\n",
            "6779/6779 [==============================] - 12s 2ms/step - loss: 0.5313 - accuracy: 0.7715 - val_loss: 0.5323 - val_accuracy: 0.7741\n",
            "Epoch 16/30\n",
            "6779/6779 [==============================] - 12s 2ms/step - loss: 0.5267 - accuracy: 0.7732 - val_loss: 0.5141 - val_accuracy: 0.7802\n",
            "Epoch 17/30\n",
            "6779/6779 [==============================] - 12s 2ms/step - loss: 0.5240 - accuracy: 0.7749 - val_loss: 0.5459 - val_accuracy: 0.7649\n",
            "Epoch 18/30\n",
            "6779/6779 [==============================] - 12s 2ms/step - loss: 0.5208 - accuracy: 0.7766 - val_loss: 0.4990 - val_accuracy: 0.7851\n",
            "Epoch 19/30\n",
            "6779/6779 [==============================] - 12s 2ms/step - loss: 0.5169 - accuracy: 0.7779 - val_loss: 0.5639 - val_accuracy: 0.7517\n",
            "Epoch 20/30\n",
            "6779/6779 [==============================] - 12s 2ms/step - loss: 0.5147 - accuracy: 0.7797 - val_loss: 0.5177 - val_accuracy: 0.7822\n",
            "Epoch 21/30\n",
            "6779/6779 [==============================] - 12s 2ms/step - loss: 0.5121 - accuracy: 0.7805 - val_loss: 0.5032 - val_accuracy: 0.7832\n",
            "Epoch 22/30\n",
            "6779/6779 [==============================] - 12s 2ms/step - loss: 0.5100 - accuracy: 0.7820 - val_loss: 0.5158 - val_accuracy: 0.7752\n",
            "Epoch 23/30\n",
            "6779/6779 [==============================] - 12s 2ms/step - loss: 0.5068 - accuracy: 0.7827 - val_loss: 0.5194 - val_accuracy: 0.7794\n",
            "Epoch 24/30\n",
            "6779/6779 [==============================] - 12s 2ms/step - loss: 0.5056 - accuracy: 0.7838 - val_loss: 0.5147 - val_accuracy: 0.7773\n",
            "Epoch 25/30\n",
            "6779/6779 [==============================] - 12s 2ms/step - loss: 0.5034 - accuracy: 0.7852 - val_loss: 0.5115 - val_accuracy: 0.7823\n",
            "Epoch 26/30\n",
            "6779/6779 [==============================] - 12s 2ms/step - loss: 0.5017 - accuracy: 0.7864 - val_loss: 0.4915 - val_accuracy: 0.7943\n",
            "Epoch 27/30\n",
            "6779/6779 [==============================] - 12s 2ms/step - loss: 0.5010 - accuracy: 0.7868 - val_loss: 0.5062 - val_accuracy: 0.7841\n",
            "Epoch 28/30\n",
            "6779/6779 [==============================] - 12s 2ms/step - loss: 0.5010 - accuracy: 0.7866 - val_loss: 0.4770 - val_accuracy: 0.7987\n",
            "Epoch 29/30\n",
            "6779/6779 [==============================] - 12s 2ms/step - loss: 0.4972 - accuracy: 0.7887 - val_loss: 0.4909 - val_accuracy: 0.7922\n",
            "Epoch 30/30\n",
            "6779/6779 [==============================] - 12s 2ms/step - loss: 0.4964 - accuracy: 0.7889 - val_loss: 0.5088 - val_accuracy: 0.7865\n"
          ],
          "name": "stdout"
        }
      ]
    },
    {
      "cell_type": "code",
      "metadata": {
        "id": "FU69k3ka9MzA",
        "colab_type": "code",
        "colab": {
          "base_uri": "https://localhost:8080/",
          "height": 255
        },
        "outputId": "d99b46a1-d339-4cd7-ea96-b242e9114194"
      },
      "source": [
        "#data normalization\n",
        "import sklearn\n",
        "from sklearn import preprocessing\n",
        "\n",
        "scaler = preprocessing.MinMaxScaler()\n",
        "scaler.fit(x_train)\n",
        "x_train_norm = scaler.transform(x_train)\n",
        "\n",
        "scaler2 = preprocessing.MinMaxScaler()\n",
        "scaler2.fit(x_test)\n",
        "x_test_norm = scaler2.transform(x_test)\n",
        "\n",
        "print(x_train_norm, x_test_norm)\n",
        "print(x_train_norm.shape, x_test_norm.shape)"
      ],
      "execution_count": 23,
      "outputs": [
        {
          "output_type": "stream",
          "text": [
            "[[0.5817909  0.36111111 0.16666667 ... 0.         0.         0.        ]\n",
            " [0.82791396 0.28611111 0.24242424 ... 0.         0.         1.        ]\n",
            " [0.3991996  0.51666667 0.25757576 ... 0.         0.         0.        ]\n",
            " ...\n",
            " [0.54677339 0.76388889 0.1969697  ... 0.         0.         0.        ]\n",
            " [0.58929465 0.06944444 0.10606061 ... 0.         0.         0.        ]\n",
            " [0.53176588 0.05       0.16666667 ... 0.         0.         0.        ]] [[0.65912519 0.025      0.11290323 ... 0.         0.         0.        ]\n",
            " [0.42182001 0.11944444 0.14516129 ... 0.         0.         0.        ]\n",
            " [0.51080945 0.09166667 0.19354839 ... 0.         0.         0.        ]\n",
            " ...\n",
            " [0.62242333 0.95       0.30645161 ... 0.         0.         0.        ]\n",
            " [0.39366516 0.00277778 0.14516129 ... 0.         0.         0.        ]\n",
            " [0.64856712 0.30555556 0.14516129 ... 0.         0.         0.        ]]\n",
            "(406708, 54) (174304, 54)\n"
          ],
          "name": "stdout"
        }
      ]
    },
    {
      "cell_type": "code",
      "metadata": {
        "id": "_YsGu_jn-F0O",
        "colab_type": "code",
        "colab": {
          "base_uri": "https://localhost:8080/",
          "height": 1000
        },
        "outputId": "271fddbc-8377-4771-b0fd-81fd8811994b"
      },
      "source": [
        "history2 = model.fit(x_train_norm,\n",
        "                    y_train,\n",
        "                    batch_size=60,\n",
        "                    epochs=30,\n",
        "                    validation_data=(x_test_norm,y_test),\n",
        "                    )"
      ],
      "execution_count": 24,
      "outputs": [
        {
          "output_type": "stream",
          "text": [
            "Epoch 1/30\n",
            "6779/6779 [==============================] - 13s 2ms/step - loss: 0.6034 - accuracy: 0.7472 - val_loss: 0.5396 - val_accuracy: 0.7670\n",
            "Epoch 2/30\n",
            "6779/6779 [==============================] - 13s 2ms/step - loss: 0.5219 - accuracy: 0.7760 - val_loss: 0.5074 - val_accuracy: 0.7784\n",
            "Epoch 3/30\n",
            "6779/6779 [==============================] - 13s 2ms/step - loss: 0.4975 - accuracy: 0.7855 - val_loss: 0.4874 - val_accuracy: 0.7907\n",
            "Epoch 4/30\n",
            "6779/6779 [==============================] - 14s 2ms/step - loss: 0.4821 - accuracy: 0.7930 - val_loss: 0.4846 - val_accuracy: 0.7895\n",
            "Epoch 5/30\n",
            "6779/6779 [==============================] - 16s 2ms/step - loss: 0.4705 - accuracy: 0.7990 - val_loss: 0.4626 - val_accuracy: 0.8029\n",
            "Epoch 6/30\n",
            "6779/6779 [==============================] - 13s 2ms/step - loss: 0.4604 - accuracy: 0.8032 - val_loss: 0.4562 - val_accuracy: 0.8048\n",
            "Epoch 7/30\n",
            "6779/6779 [==============================] - 13s 2ms/step - loss: 0.4535 - accuracy: 0.8064 - val_loss: 0.4609 - val_accuracy: 0.7980\n",
            "Epoch 8/30\n",
            "6779/6779 [==============================] - 13s 2ms/step - loss: 0.4479 - accuracy: 0.8093 - val_loss: 0.4486 - val_accuracy: 0.8086\n",
            "Epoch 9/30\n",
            "6779/6779 [==============================] - 13s 2ms/step - loss: 0.4436 - accuracy: 0.8115 - val_loss: 0.4460 - val_accuracy: 0.8077\n",
            "Epoch 10/30\n",
            "6779/6779 [==============================] - 13s 2ms/step - loss: 0.4390 - accuracy: 0.8133 - val_loss: 0.4384 - val_accuracy: 0.8150\n",
            "Epoch 11/30\n",
            "6779/6779 [==============================] - 13s 2ms/step - loss: 0.4360 - accuracy: 0.8146 - val_loss: 0.4371 - val_accuracy: 0.8132\n",
            "Epoch 12/30\n",
            "6779/6779 [==============================] - 13s 2ms/step - loss: 0.4330 - accuracy: 0.8156 - val_loss: 0.4291 - val_accuracy: 0.8158\n",
            "Epoch 13/30\n",
            "6779/6779 [==============================] - 13s 2ms/step - loss: 0.4301 - accuracy: 0.8171 - val_loss: 0.4316 - val_accuracy: 0.8146\n",
            "Epoch 14/30\n",
            "6779/6779 [==============================] - 13s 2ms/step - loss: 0.4273 - accuracy: 0.8174 - val_loss: 0.4315 - val_accuracy: 0.8176\n",
            "Epoch 15/30\n",
            "6779/6779 [==============================] - 13s 2ms/step - loss: 0.4250 - accuracy: 0.8185 - val_loss: 0.4330 - val_accuracy: 0.8158\n",
            "Epoch 16/30\n",
            "6779/6779 [==============================] - 13s 2ms/step - loss: 0.4229 - accuracy: 0.8193 - val_loss: 0.4312 - val_accuracy: 0.8148\n",
            "Epoch 17/30\n",
            "6779/6779 [==============================] - 13s 2ms/step - loss: 0.4207 - accuracy: 0.8208 - val_loss: 0.4279 - val_accuracy: 0.8159\n",
            "Epoch 18/30\n",
            "6779/6779 [==============================] - 13s 2ms/step - loss: 0.4188 - accuracy: 0.8215 - val_loss: 0.4196 - val_accuracy: 0.8202\n",
            "Epoch 19/30\n",
            "6779/6779 [==============================] - 13s 2ms/step - loss: 0.4167 - accuracy: 0.8221 - val_loss: 0.4154 - val_accuracy: 0.8240\n",
            "Epoch 20/30\n",
            "6779/6779 [==============================] - 13s 2ms/step - loss: 0.4152 - accuracy: 0.8229 - val_loss: 0.4192 - val_accuracy: 0.8201\n",
            "Epoch 21/30\n",
            "6779/6779 [==============================] - 13s 2ms/step - loss: 0.4134 - accuracy: 0.8241 - val_loss: 0.4177 - val_accuracy: 0.8231\n",
            "Epoch 22/30\n",
            "6779/6779 [==============================] - 13s 2ms/step - loss: 0.4126 - accuracy: 0.8241 - val_loss: 0.4200 - val_accuracy: 0.8198\n",
            "Epoch 23/30\n",
            "6779/6779 [==============================] - 14s 2ms/step - loss: 0.4102 - accuracy: 0.8253 - val_loss: 0.4250 - val_accuracy: 0.8171\n",
            "Epoch 24/30\n",
            "6779/6779 [==============================] - 13s 2ms/step - loss: 0.4091 - accuracy: 0.8259 - val_loss: 0.4106 - val_accuracy: 0.8266\n",
            "Epoch 25/30\n",
            "6779/6779 [==============================] - 13s 2ms/step - loss: 0.4079 - accuracy: 0.8263 - val_loss: 0.4140 - val_accuracy: 0.8239\n",
            "Epoch 26/30\n",
            "6779/6779 [==============================] - 13s 2ms/step - loss: 0.4063 - accuracy: 0.8274 - val_loss: 0.4108 - val_accuracy: 0.8257\n",
            "Epoch 27/30\n",
            "6779/6779 [==============================] - 13s 2ms/step - loss: 0.4053 - accuracy: 0.8271 - val_loss: 0.4092 - val_accuracy: 0.8244\n",
            "Epoch 28/30\n",
            "6779/6779 [==============================] - 13s 2ms/step - loss: 0.4039 - accuracy: 0.8285 - val_loss: 0.4177 - val_accuracy: 0.8209\n",
            "Epoch 29/30\n",
            "6779/6779 [==============================] - 13s 2ms/step - loss: 0.4025 - accuracy: 0.8284 - val_loss: 0.4091 - val_accuracy: 0.8299\n",
            "Epoch 30/30\n",
            "6779/6779 [==============================] - 13s 2ms/step - loss: 0.4016 - accuracy: 0.8295 - val_loss: 0.4119 - val_accuracy: 0.8242\n"
          ],
          "name": "stdout"
        }
      ]
    },
    {
      "cell_type": "code",
      "metadata": {
        "id": "PScUX-xqAMTN",
        "colab_type": "code",
        "colab": {
          "base_uri": "https://localhost:8080/",
          "height": 459
        },
        "outputId": "f52399ed-eb4f-45a6-8a33-a7e7dbeb436b"
      },
      "source": [
        "#data standarization\n",
        "scaler3 = preprocessing.StandardScaler()\n",
        "scaler3.fit(x_train)\n",
        "x_train_scaled = scaler3.transform(x_train)\n",
        "\n",
        "scaler4 = preprocessing.StandardScaler()\n",
        "scaler4.fit(x_test)\n",
        "x_test_scaled = scaler4.transform(x_test)\n",
        "\n",
        "print(x_train_scaled, x_test_scaled)\n",
        "print(x_train_scaled.shape, x_test_scaled.shape)"
      ],
      "execution_count": 21,
      "outputs": [
        {
          "output_type": "stream",
          "text": [
            "[[ 0.22236642 -0.22863876 -0.41250293 ... -0.16593195 -0.15563993\n",
            "  -0.12424668]\n",
            " [ 1.98049037 -0.46998891  0.25545256 ... -0.16593195 -0.15563993\n",
            "   8.0485045 ]\n",
            " [-1.08193285  0.2719393   0.38904365 ... -0.16593195 -0.15563993\n",
            "  -0.12424668]\n",
            " ...\n",
            " [-0.02777316  1.06750088 -0.14532074 ... -0.16593195 -0.15563993\n",
            "  -0.12424668]\n",
            " [ 0.27596776 -1.16722264 -0.94686732 ... -0.16593195 -0.15563993\n",
            "  -0.12424668]\n",
            " [-0.13497584 -1.2297949  -0.41250293 ... -0.16593195 -0.15563993\n",
            "  -0.12424668]] [[ 0.78692786 -1.31091915 -0.95281686 ... -0.16601249 -0.15688363\n",
            "  -0.12225904]\n",
            " [-0.89692023 -1.00738455 -0.68595149 ... -0.16601249 -0.15688363\n",
            "  -0.12225904]\n",
            " [-0.26547719 -1.09665943 -0.28565345 ... -0.16601249 -0.15688363\n",
            "  -0.12225904]\n",
            " ...\n",
            " [ 0.52650221  1.66193439  0.64837533 ... -0.16601249 -0.15688363\n",
            "  -0.12225904]\n",
            " [-1.09669882 -1.38233905 -0.68595149 ... -0.16601249 -0.15688363\n",
            "  -0.12225904]\n",
            " [ 0.71201089 -0.40924285 -0.68595149 ... -0.16601249 -0.15688363\n",
            "  -0.12225904]]\n",
            "(406708, 54) (174304, 54)\n"
          ],
          "name": "stdout"
        }
      ]
    },
    {
      "cell_type": "code",
      "metadata": {
        "id": "SAwH6c6pBOM5",
        "colab_type": "code",
        "colab": {
          "base_uri": "https://localhost:8080/",
          "height": 1000
        },
        "outputId": "d0629fa3-dc27-4e3d-b969-0488c4d1ab31"
      },
      "source": [
        "history3 = model.fit(x_train_scaled,\n",
        "                    y_train,\n",
        "                    batch_size=60,\n",
        "                    epochs=30,\n",
        "                    validation_data=(x_test_scaled,y_test),\n",
        "                    )"
      ],
      "execution_count": 22,
      "outputs": [
        {
          "output_type": "stream",
          "text": [
            "Epoch 1/30\n",
            "6779/6779 [==============================] - 13s 2ms/step - loss: 0.8226 - accuracy: 0.7251 - val_loss: 0.6203 - val_accuracy: 0.7438\n",
            "Epoch 2/30\n",
            "6779/6779 [==============================] - 13s 2ms/step - loss: 0.5885 - accuracy: 0.7540 - val_loss: 0.5556 - val_accuracy: 0.7651\n",
            "Epoch 3/30\n",
            "6779/6779 [==============================] - 13s 2ms/step - loss: 0.5474 - accuracy: 0.7659 - val_loss: 0.5369 - val_accuracy: 0.7725\n",
            "Epoch 4/30\n",
            "6779/6779 [==============================] - 13s 2ms/step - loss: 0.5289 - accuracy: 0.7730 - val_loss: 0.5250 - val_accuracy: 0.7748\n",
            "Epoch 5/30\n",
            "6779/6779 [==============================] - 13s 2ms/step - loss: 0.5162 - accuracy: 0.7784 - val_loss: 0.5148 - val_accuracy: 0.7776\n",
            "Epoch 6/30\n",
            "6779/6779 [==============================] - 13s 2ms/step - loss: 0.5055 - accuracy: 0.7828 - val_loss: 0.5019 - val_accuracy: 0.7857\n",
            "Epoch 7/30\n",
            "6779/6779 [==============================] - 13s 2ms/step - loss: 0.4975 - accuracy: 0.7879 - val_loss: 0.4952 - val_accuracy: 0.7877\n",
            "Epoch 8/30\n",
            "6779/6779 [==============================] - 13s 2ms/step - loss: 0.4893 - accuracy: 0.7909 - val_loss: 0.4873 - val_accuracy: 0.7919\n",
            "Epoch 9/30\n",
            "6779/6779 [==============================] - 14s 2ms/step - loss: 0.4838 - accuracy: 0.7934 - val_loss: 0.4829 - val_accuracy: 0.7947\n",
            "Epoch 10/30\n",
            "6779/6779 [==============================] - 13s 2ms/step - loss: 0.4781 - accuracy: 0.7964 - val_loss: 0.4782 - val_accuracy: 0.7956\n",
            "Epoch 11/30\n",
            "6779/6779 [==============================] - 13s 2ms/step - loss: 0.4720 - accuracy: 0.7990 - val_loss: 0.4706 - val_accuracy: 0.7953\n",
            "Epoch 12/30\n",
            "6779/6779 [==============================] - 13s 2ms/step - loss: 0.4676 - accuracy: 0.8005 - val_loss: 0.4606 - val_accuracy: 0.8033\n",
            "Epoch 13/30\n",
            "6779/6779 [==============================] - 13s 2ms/step - loss: 0.4631 - accuracy: 0.8029 - val_loss: 0.4606 - val_accuracy: 0.8041\n",
            "Epoch 14/30\n",
            "6779/6779 [==============================] - 14s 2ms/step - loss: 0.4589 - accuracy: 0.8053 - val_loss: 0.4614 - val_accuracy: 0.8039\n",
            "Epoch 15/30\n",
            "6779/6779 [==============================] - 14s 2ms/step - loss: 0.4558 - accuracy: 0.8074 - val_loss: 0.4553 - val_accuracy: 0.8069\n",
            "Epoch 16/30\n",
            "6779/6779 [==============================] - 13s 2ms/step - loss: 0.4526 - accuracy: 0.8080 - val_loss: 0.4510 - val_accuracy: 0.8082\n",
            "Epoch 17/30\n",
            "6779/6779 [==============================] - 13s 2ms/step - loss: 0.4493 - accuracy: 0.8100 - val_loss: 0.4520 - val_accuracy: 0.8061\n",
            "Epoch 18/30\n",
            "6779/6779 [==============================] - 13s 2ms/step - loss: 0.4450 - accuracy: 0.8119 - val_loss: 0.4466 - val_accuracy: 0.8102\n",
            "Epoch 19/30\n",
            "6779/6779 [==============================] - 13s 2ms/step - loss: 0.4427 - accuracy: 0.8126 - val_loss: 0.4498 - val_accuracy: 0.8106\n",
            "Epoch 20/30\n",
            "6779/6779 [==============================] - 13s 2ms/step - loss: 0.4403 - accuracy: 0.8140 - val_loss: 0.4449 - val_accuracy: 0.8116\n",
            "Epoch 21/30\n",
            "6779/6779 [==============================] - 13s 2ms/step - loss: 0.4373 - accuracy: 0.8144 - val_loss: 0.4383 - val_accuracy: 0.8165\n",
            "Epoch 22/30\n",
            "6779/6779 [==============================] - 13s 2ms/step - loss: 0.4354 - accuracy: 0.8161 - val_loss: 0.4370 - val_accuracy: 0.8142\n",
            "Epoch 23/30\n",
            "6779/6779 [==============================] - 13s 2ms/step - loss: 0.4331 - accuracy: 0.8166 - val_loss: 0.4374 - val_accuracy: 0.8146\n",
            "Epoch 24/30\n",
            "6779/6779 [==============================] - 13s 2ms/step - loss: 0.4320 - accuracy: 0.8175 - val_loss: 0.4333 - val_accuracy: 0.8153\n",
            "Epoch 25/30\n",
            "6779/6779 [==============================] - 14s 2ms/step - loss: 0.4286 - accuracy: 0.8188 - val_loss: 0.4339 - val_accuracy: 0.8184\n",
            "Epoch 26/30\n",
            "6779/6779 [==============================] - 13s 2ms/step - loss: 0.4253 - accuracy: 0.8207 - val_loss: 0.4342 - val_accuracy: 0.8170\n",
            "Epoch 27/30\n",
            "6779/6779 [==============================] - 13s 2ms/step - loss: 0.4241 - accuracy: 0.8215 - val_loss: 0.4273 - val_accuracy: 0.8197\n",
            "Epoch 28/30\n",
            "6779/6779 [==============================] - 13s 2ms/step - loss: 0.4216 - accuracy: 0.8220 - val_loss: 0.4231 - val_accuracy: 0.8211\n",
            "Epoch 29/30\n",
            "6779/6779 [==============================] - 13s 2ms/step - loss: 0.4203 - accuracy: 0.8227 - val_loss: 0.4185 - val_accuracy: 0.8236\n",
            "Epoch 30/30\n",
            "6779/6779 [==============================] - 14s 2ms/step - loss: 0.4182 - accuracy: 0.8237 - val_loss: 0.4140 - val_accuracy: 0.8252\n"
          ],
          "name": "stdout"
        }
      ]
    }
  ]
}
